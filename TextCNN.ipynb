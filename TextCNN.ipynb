{
  "cells": [
    {
      "cell_type": "code",
      "execution_count": 64,
      "metadata": {
        "id": "rz8psCgOrLkh"
      },
      "outputs": [],
      "source": [
        "import pandas as pd\n",
        "import numpy as np\n",
        "import tensorflow as tf\n",
        "from sklearn.model_selection import train_test_split\n",
        "from tensorflow.keras.preprocessing.text import Tokenizer\n",
        "from tensorflow.keras.preprocessing.sequence import pad_sequences\n",
        "from tensorflow.keras.layers import Input, Dense, Embedding, Conv1D, GlobalMaxPooling1D\n",
        "from tensorflow.keras.models import Model\n",
        "from tensorflow.keras.losses import SparseCategoricalCrossentropy\n",
        "from tensorflow.keras.optimizers import Adam"
      ]
    },
    {
      "cell_type": "code",
      "execution_count": 110,
      "metadata": {
        "id": "IGLv45JhyNrb"
      },
      "outputs": [],
      "source": [
        "import plotly.express as px"
      ]
    },
    {
      "cell_type": "code",
      "execution_count": 65,
      "metadata": {
        "id": "U4K1kuExrMxx"
      },
      "outputs": [],
      "source": [
        "tf.random.set_seed(42)\n",
        "np.random.seed(42)"
      ]
    },
    {
      "cell_type": "code",
      "execution_count": 66,
      "metadata": {
        "colab": {
          "base_uri": "https://localhost:8080/",
          "height": 206
        },
        "id": "Ht8ABD-FrO25",
        "outputId": "4c7fd8da-b66a-4752-8ae1-fc8c2174a234"
      },
      "outputs": [
        {
          "data": {
            "application/vnd.google.colaboratory.intrinsic+json": {
              "summary": "{\n  \"name\": \"df\",\n  \"rows\": 2225,\n  \"fields\": [\n    {\n      \"column\": \"text\",\n      \"properties\": {\n        \"dtype\": \"string\",\n        \"num_unique_values\": 2127,\n        \"samples\": [\n          \"EU 'too slow' on economic reforms\\n\\nMost EU countries have failed to put in place policies aimed at making Europe the world's most competitive economy by the end of the decade, a report says.\\n\\nThe study, undertaken by the European Commission, sought to assess how far the EU has moved towards meeting its economic targets. In 2000, EU leaders at a summit in Lisbon pledged the European economy would outstrip that of the US by 2010. Their economic targets became known as the Lisbon Agenda. But the Commission report says that, in most EU countries, the pace of economic reform has been too slow, and fulfilling the Lisbon ambitions will be difficult - if not impossible.\\n\\nOnly the UK, Finland, Belgium, Denmark, Ireland and the Netherlands have actually followed up policy recommendations. Among the biggest laggards, according to the report, are Greece and Italy. The Lisbon Agenda set out to increase the number of people employed in Europe by encouraging more older people and women to stay in the workforce. It also set out to raise the amount the private sector spends on research and development, while bringing about greater discipline over public spending and debt levels. Combined with high environmental standards and efforts to level the playing field for businesses throughout the EU, the plan was for Europe to become the world's most dynamic economy by 2010. Next week, the Commission will present revised proposals to meet the Lisbon goals. Many people expect the 2010 target to be quietly dropped.\",\n          \"BBC web search aids odd queries\\n\\nThe BBC's online search engine was used a record amount in 2004, helping with enquires both simple and strange.\\n\\nMore than 277 million enquiries were made, asking for informaton of a wide range of subjects. The most requested search terms of 2004 included games, EastEnders, CBBC, John Peel, Harry Potter and Olympics. But there were many strange enquiries, including: what is a dog?, how do you say basketball? and what is the biggest collection of naval fluff? The search engine works by matching key words typed in to different web pages but many people still type in natural language questions. Here are some of the strangest queries of 2004 - spelling and grammar errors left untouched - and their possible solutions:\\n\\n\\n - How to fold a serviette like an elf's boot? \\n \\n\\n\\n - How do I structure a French letter? \\n \\n\\n\\n - What is better one long vacation each year or several short vacations throughout the year? \\n \\n\\n\\n - What is so special about the Swiss? \\n \\n\\n\\n - What are the contemporary issue in nurses? \\n \\n\\n\\n - What is the number 4 in this number 40052308090? \\n \\n\\n\\n - What is up? \\n \\n\\n\\n - What is the name of James Martin's dog? \\n \\n\\nSearch engines are key to the way people use the internet. Companies such as Google have become of paramount importance as they dictate how people travel through websites while online.\",\n          \"Serena becomes world number two\\n\\nSerena Williams has moved up five places to second in the world rankings after her Australian Open win.\\n\\nWilliams won her first Grand Slam title since 2003 with victory over Lindsay Davenport, the world number one. Men's champion Marat Safin remains fourth in the ATP rankings while beaten finalist Lleyton Hewitt replaces Andy Roddick as world number two. Roger Federer retains top spot, but Safin has overtaken Hewitt to become the new leader of the Champions Race. Alicia Molik, who lost a three-set thriller against Davenport in the quarter-finals, is in the women's top 10 for the first time in her career. Her rise means Australia have a player in the top 10 of the men's and women's rankings for the first time in 21 years. And Britain's Elena Baltacha, who qualified and then reached the third round, has risen to 120 in the world - a leap of 65 places and her highest ranking yet.\"\n        ],\n        \"semantic_type\": \"\",\n        \"description\": \"\"\n      }\n    },\n    {\n      \"column\": \"labels\",\n      \"properties\": {\n        \"dtype\": \"category\",\n        \"num_unique_values\": 5,\n        \"samples\": [\n          \"entertainment\",\n          \"tech\",\n          \"politics\"\n        ],\n        \"semantic_type\": \"\",\n        \"description\": \"\"\n      }\n    }\n  ]\n}",
              "type": "dataframe",
              "variable_name": "df"
            },
            "text/html": [
              "\n",
              "  <div id=\"df-475fcece-70c5-49f3-8837-4f74e74b0c6b\" class=\"colab-df-container\">\n",
              "    <div>\n",
              "<style scoped>\n",
              "    .dataframe tbody tr th:only-of-type {\n",
              "        vertical-align: middle;\n",
              "    }\n",
              "\n",
              "    .dataframe tbody tr th {\n",
              "        vertical-align: top;\n",
              "    }\n",
              "\n",
              "    .dataframe thead th {\n",
              "        text-align: right;\n",
              "    }\n",
              "</style>\n",
              "<table border=\"1\" class=\"dataframe\">\n",
              "  <thead>\n",
              "    <tr style=\"text-align: right;\">\n",
              "      <th></th>\n",
              "      <th>text</th>\n",
              "      <th>labels</th>\n",
              "    </tr>\n",
              "  </thead>\n",
              "  <tbody>\n",
              "    <tr>\n",
              "      <th>0</th>\n",
              "      <td>Ad sales boost Time Warner profit\\n\\nQuarterly...</td>\n",
              "      <td>business</td>\n",
              "    </tr>\n",
              "    <tr>\n",
              "      <th>1</th>\n",
              "      <td>Dollar gains on Greenspan speech\\n\\nThe dollar...</td>\n",
              "      <td>business</td>\n",
              "    </tr>\n",
              "    <tr>\n",
              "      <th>2</th>\n",
              "      <td>Yukos unit buyer faces loan claim\\n\\nThe owner...</td>\n",
              "      <td>business</td>\n",
              "    </tr>\n",
              "    <tr>\n",
              "      <th>3</th>\n",
              "      <td>High fuel prices hit BA's profits\\n\\nBritish A...</td>\n",
              "      <td>business</td>\n",
              "    </tr>\n",
              "    <tr>\n",
              "      <th>4</th>\n",
              "      <td>Pernod takeover talk lifts Domecq\\n\\nShares in...</td>\n",
              "      <td>business</td>\n",
              "    </tr>\n",
              "  </tbody>\n",
              "</table>\n",
              "</div>\n",
              "    <div class=\"colab-df-buttons\">\n",
              "\n",
              "  <div class=\"colab-df-container\">\n",
              "    <button class=\"colab-df-convert\" onclick=\"convertToInteractive('df-475fcece-70c5-49f3-8837-4f74e74b0c6b')\"\n",
              "            title=\"Convert this dataframe to an interactive table.\"\n",
              "            style=\"display:none;\">\n",
              "\n",
              "  <svg xmlns=\"http://www.w3.org/2000/svg\" height=\"24px\" viewBox=\"0 -960 960 960\">\n",
              "    <path d=\"M120-120v-720h720v720H120Zm60-500h600v-160H180v160Zm220 220h160v-160H400v160Zm0 220h160v-160H400v160ZM180-400h160v-160H180v160Zm440 0h160v-160H620v160ZM180-180h160v-160H180v160Zm440 0h160v-160H620v160Z\"/>\n",
              "  </svg>\n",
              "    </button>\n",
              "\n",
              "  <style>\n",
              "    .colab-df-container {\n",
              "      display:flex;\n",
              "      gap: 12px;\n",
              "    }\n",
              "\n",
              "    .colab-df-convert {\n",
              "      background-color: #E8F0FE;\n",
              "      border: none;\n",
              "      border-radius: 50%;\n",
              "      cursor: pointer;\n",
              "      display: none;\n",
              "      fill: #1967D2;\n",
              "      height: 32px;\n",
              "      padding: 0 0 0 0;\n",
              "      width: 32px;\n",
              "    }\n",
              "\n",
              "    .colab-df-convert:hover {\n",
              "      background-color: #E2EBFA;\n",
              "      box-shadow: 0px 1px 2px rgba(60, 64, 67, 0.3), 0px 1px 3px 1px rgba(60, 64, 67, 0.15);\n",
              "      fill: #174EA6;\n",
              "    }\n",
              "\n",
              "    .colab-df-buttons div {\n",
              "      margin-bottom: 4px;\n",
              "    }\n",
              "\n",
              "    [theme=dark] .colab-df-convert {\n",
              "      background-color: #3B4455;\n",
              "      fill: #D2E3FC;\n",
              "    }\n",
              "\n",
              "    [theme=dark] .colab-df-convert:hover {\n",
              "      background-color: #434B5C;\n",
              "      box-shadow: 0px 1px 3px 1px rgba(0, 0, 0, 0.15);\n",
              "      filter: drop-shadow(0px 1px 2px rgba(0, 0, 0, 0.3));\n",
              "      fill: #FFFFFF;\n",
              "    }\n",
              "  </style>\n",
              "\n",
              "    <script>\n",
              "      const buttonEl =\n",
              "        document.querySelector('#df-475fcece-70c5-49f3-8837-4f74e74b0c6b button.colab-df-convert');\n",
              "      buttonEl.style.display =\n",
              "        google.colab.kernel.accessAllowed ? 'block' : 'none';\n",
              "\n",
              "      async function convertToInteractive(key) {\n",
              "        const element = document.querySelector('#df-475fcece-70c5-49f3-8837-4f74e74b0c6b');\n",
              "        const dataTable =\n",
              "          await google.colab.kernel.invokeFunction('convertToInteractive',\n",
              "                                                    [key], {});\n",
              "        if (!dataTable) return;\n",
              "\n",
              "        const docLinkHtml = 'Like what you see? Visit the ' +\n",
              "          '<a target=\"_blank\" href=https://colab.research.google.com/notebooks/data_table.ipynb>data table notebook</a>'\n",
              "          + ' to learn more about interactive tables.';\n",
              "        element.innerHTML = '';\n",
              "        dataTable['output_type'] = 'display_data';\n",
              "        await google.colab.output.renderOutput(dataTable, element);\n",
              "        const docLink = document.createElement('div');\n",
              "        docLink.innerHTML = docLinkHtml;\n",
              "        element.appendChild(docLink);\n",
              "      }\n",
              "    </script>\n",
              "  </div>\n",
              "\n",
              "\n",
              "<div id=\"df-4439e314-fd76-41e7-bf6b-abdeed809a4d\">\n",
              "  <button class=\"colab-df-quickchart\" onclick=\"quickchart('df-4439e314-fd76-41e7-bf6b-abdeed809a4d')\"\n",
              "            title=\"Suggest charts\"\n",
              "            style=\"display:none;\">\n",
              "\n",
              "<svg xmlns=\"http://www.w3.org/2000/svg\" height=\"24px\"viewBox=\"0 0 24 24\"\n",
              "     width=\"24px\">\n",
              "    <g>\n",
              "        <path d=\"M19 3H5c-1.1 0-2 .9-2 2v14c0 1.1.9 2 2 2h14c1.1 0 2-.9 2-2V5c0-1.1-.9-2-2-2zM9 17H7v-7h2v7zm4 0h-2V7h2v10zm4 0h-2v-4h2v4z\"/>\n",
              "    </g>\n",
              "</svg>\n",
              "  </button>\n",
              "\n",
              "<style>\n",
              "  .colab-df-quickchart {\n",
              "      --bg-color: #E8F0FE;\n",
              "      --fill-color: #1967D2;\n",
              "      --hover-bg-color: #E2EBFA;\n",
              "      --hover-fill-color: #174EA6;\n",
              "      --disabled-fill-color: #AAA;\n",
              "      --disabled-bg-color: #DDD;\n",
              "  }\n",
              "\n",
              "  [theme=dark] .colab-df-quickchart {\n",
              "      --bg-color: #3B4455;\n",
              "      --fill-color: #D2E3FC;\n",
              "      --hover-bg-color: #434B5C;\n",
              "      --hover-fill-color: #FFFFFF;\n",
              "      --disabled-bg-color: #3B4455;\n",
              "      --disabled-fill-color: #666;\n",
              "  }\n",
              "\n",
              "  .colab-df-quickchart {\n",
              "    background-color: var(--bg-color);\n",
              "    border: none;\n",
              "    border-radius: 50%;\n",
              "    cursor: pointer;\n",
              "    display: none;\n",
              "    fill: var(--fill-color);\n",
              "    height: 32px;\n",
              "    padding: 0;\n",
              "    width: 32px;\n",
              "  }\n",
              "\n",
              "  .colab-df-quickchart:hover {\n",
              "    background-color: var(--hover-bg-color);\n",
              "    box-shadow: 0 1px 2px rgba(60, 64, 67, 0.3), 0 1px 3px 1px rgba(60, 64, 67, 0.15);\n",
              "    fill: var(--button-hover-fill-color);\n",
              "  }\n",
              "\n",
              "  .colab-df-quickchart-complete:disabled,\n",
              "  .colab-df-quickchart-complete:disabled:hover {\n",
              "    background-color: var(--disabled-bg-color);\n",
              "    fill: var(--disabled-fill-color);\n",
              "    box-shadow: none;\n",
              "  }\n",
              "\n",
              "  .colab-df-spinner {\n",
              "    border: 2px solid var(--fill-color);\n",
              "    border-color: transparent;\n",
              "    border-bottom-color: var(--fill-color);\n",
              "    animation:\n",
              "      spin 1s steps(1) infinite;\n",
              "  }\n",
              "\n",
              "  @keyframes spin {\n",
              "    0% {\n",
              "      border-color: transparent;\n",
              "      border-bottom-color: var(--fill-color);\n",
              "      border-left-color: var(--fill-color);\n",
              "    }\n",
              "    20% {\n",
              "      border-color: transparent;\n",
              "      border-left-color: var(--fill-color);\n",
              "      border-top-color: var(--fill-color);\n",
              "    }\n",
              "    30% {\n",
              "      border-color: transparent;\n",
              "      border-left-color: var(--fill-color);\n",
              "      border-top-color: var(--fill-color);\n",
              "      border-right-color: var(--fill-color);\n",
              "    }\n",
              "    40% {\n",
              "      border-color: transparent;\n",
              "      border-right-color: var(--fill-color);\n",
              "      border-top-color: var(--fill-color);\n",
              "    }\n",
              "    60% {\n",
              "      border-color: transparent;\n",
              "      border-right-color: var(--fill-color);\n",
              "    }\n",
              "    80% {\n",
              "      border-color: transparent;\n",
              "      border-right-color: var(--fill-color);\n",
              "      border-bottom-color: var(--fill-color);\n",
              "    }\n",
              "    90% {\n",
              "      border-color: transparent;\n",
              "      border-bottom-color: var(--fill-color);\n",
              "    }\n",
              "  }\n",
              "</style>\n",
              "\n",
              "  <script>\n",
              "    async function quickchart(key) {\n",
              "      const quickchartButtonEl =\n",
              "        document.querySelector('#' + key + ' button');\n",
              "      quickchartButtonEl.disabled = true;  // To prevent multiple clicks.\n",
              "      quickchartButtonEl.classList.add('colab-df-spinner');\n",
              "      try {\n",
              "        const charts = await google.colab.kernel.invokeFunction(\n",
              "            'suggestCharts', [key], {});\n",
              "      } catch (error) {\n",
              "        console.error('Error during call to suggestCharts:', error);\n",
              "      }\n",
              "      quickchartButtonEl.classList.remove('colab-df-spinner');\n",
              "      quickchartButtonEl.classList.add('colab-df-quickchart-complete');\n",
              "    }\n",
              "    (() => {\n",
              "      let quickchartButtonEl =\n",
              "        document.querySelector('#df-4439e314-fd76-41e7-bf6b-abdeed809a4d button');\n",
              "      quickchartButtonEl.style.display =\n",
              "        google.colab.kernel.accessAllowed ? 'block' : 'none';\n",
              "    })();\n",
              "  </script>\n",
              "</div>\n",
              "\n",
              "    </div>\n",
              "  </div>\n"
            ],
            "text/plain": [
              "                                                text    labels\n",
              "0  Ad sales boost Time Warner profit\\n\\nQuarterly...  business\n",
              "1  Dollar gains on Greenspan speech\\n\\nThe dollar...  business\n",
              "2  Yukos unit buyer faces loan claim\\n\\nThe owner...  business\n",
              "3  High fuel prices hit BA's profits\\n\\nBritish A...  business\n",
              "4  Pernod takeover talk lifts Domecq\\n\\nShares in...  business"
            ]
          },
          "execution_count": 66,
          "metadata": {},
          "output_type": "execute_result"
        }
      ],
      "source": [
        "df = pd.read_csv('bbc_text_cls.csv')\n",
        "df.head()"
      ]
    },
    {
      "cell_type": "code",
      "execution_count": 67,
      "metadata": {
        "colab": {
          "base_uri": "https://localhost:8080/",
          "height": 542
        },
        "id": "oD94sKmerXcn",
        "outputId": "cbc06219-08cf-42ab-9405-e6e1c0bb191c"
      },
      "outputs": [
        {
          "data": {
            "text/html": [
              "<html>\n",
              "<head><meta charset=\"utf-8\" /></head>\n",
              "<body>\n",
              "    <div>            <script src=\"https://cdnjs.cloudflare.com/ajax/libs/mathjax/2.7.5/MathJax.js?config=TeX-AMS-MML_SVG\"></script><script type=\"text/javascript\">if (window.MathJax && window.MathJax.Hub && window.MathJax.Hub.Config) {window.MathJax.Hub.Config({SVG: {font: \"STIX-Web\"}});}</script>                <script type=\"text/javascript\">window.PlotlyConfig = {MathJaxConfig: 'local'};</script>\n",
              "        <script charset=\"utf-8\" src=\"https://cdn.plot.ly/plotly-2.24.1.min.js\"></script>                <div id=\"9b2ccac1-279b-4594-b78a-694437efd8fe\" class=\"plotly-graph-div\" style=\"height:525px; width:100%;\"></div>            <script type=\"text/javascript\">                                    window.PLOTLYENV=window.PLOTLYENV || {};                                    if (document.getElementById(\"9b2ccac1-279b-4594-b78a-694437efd8fe\")) {                    Plotly.newPlot(                        \"9b2ccac1-279b-4594-b78a-694437efd8fe\",                        [{\"alignmentgroup\":\"True\",\"bingroup\":\"x\",\"hovertemplate\":\"labels=%{x}\\u003cbr\\u003ecount=%{y}\\u003cextra\\u003e\\u003c\\u002fextra\\u003e\",\"legendgroup\":\"\",\"marker\":{\"color\":\"#636efa\",\"pattern\":{\"shape\":\"\"}},\"name\":\"\",\"offsetgroup\":\"\",\"orientation\":\"v\",\"showlegend\":false,\"x\":[\"business\",\"business\",\"business\",\"business\",\"business\",\"business\",\"business\",\"business\",\"business\",\"business\",\"business\",\"business\",\"business\",\"business\",\"business\",\"business\",\"business\",\"business\",\"business\",\"business\",\"business\",\"business\",\"business\",\"business\",\"business\",\"business\",\"business\",\"business\",\"business\",\"business\",\"business\",\"business\",\"business\",\"business\",\"business\",\"business\",\"business\",\"business\",\"business\",\"business\",\"business\",\"business\",\"business\",\"business\",\"business\",\"business\",\"business\",\"business\",\"business\",\"business\",\"business\",\"business\",\"business\",\"business\",\"business\",\"business\",\"business\",\"business\",\"business\",\"business\",\"business\",\"business\",\"business\",\"business\",\"business\",\"business\",\"business\",\"business\",\"business\",\"business\",\"business\",\"business\",\"business\",\"business\",\"business\",\"business\",\"business\",\"business\",\"business\",\"business\",\"business\",\"business\",\"business\",\"business\",\"business\",\"business\",\"business\",\"business\",\"business\",\"business\",\"business\",\"business\",\"business\",\"business\",\"business\",\"business\",\"business\",\"business\",\"business\",\"business\",\"business\",\"business\",\"business\",\"business\",\"business\",\"business\",\"business\",\"business\",\"business\",\"business\",\"business\",\"business\",\"business\",\"business\",\"business\",\"business\",\"business\",\"business\",\"business\",\"business\",\"business\",\"business\",\"business\",\"business\",\"business\",\"business\",\"business\",\"business\",\"business\",\"business\",\"business\",\"business\",\"business\",\"business\",\"business\",\"business\",\"business\",\"business\",\"business\",\"business\",\"business\",\"business\",\"business\",\"business\",\"business\",\"business\",\"business\",\"business\",\"business\",\"business\",\"business\",\"business\",\"business\",\"business\",\"business\",\"business\",\"business\",\"business\",\"business\",\"business\",\"business\",\"business\",\"business\",\"business\",\"business\",\"business\",\"business\",\"business\",\"business\",\"business\",\"business\",\"business\",\"business\",\"business\",\"business\",\"business\",\"business\",\"business\",\"business\",\"business\",\"business\",\"business\",\"business\",\"business\",\"business\",\"business\",\"business\",\"business\",\"business\",\"business\",\"business\",\"business\",\"business\",\"business\",\"business\",\"business\",\"business\",\"business\",\"business\",\"business\",\"business\",\"business\",\"business\",\"business\",\"business\",\"business\",\"business\",\"business\",\"business\",\"business\",\"business\",\"business\",\"business\",\"business\",\"business\",\"business\",\"business\",\"business\",\"business\",\"business\",\"business\",\"business\",\"business\",\"business\",\"business\",\"business\",\"business\",\"business\",\"business\",\"business\",\"business\",\"business\",\"business\",\"business\",\"business\",\"business\",\"business\",\"business\",\"business\",\"business\",\"business\",\"business\",\"business\",\"business\",\"business\",\"business\",\"business\",\"business\",\"business\",\"business\",\"business\",\"business\",\"business\",\"business\",\"business\",\"business\",\"business\",\"business\",\"business\",\"business\",\"business\",\"business\",\"business\",\"business\",\"business\",\"business\",\"business\",\"business\",\"business\",\"business\",\"business\",\"business\",\"business\",\"business\",\"business\",\"business\",\"business\",\"business\",\"business\",\"business\",\"business\",\"business\",\"business\",\"business\",\"business\",\"business\",\"business\",\"business\",\"business\",\"business\",\"business\",\"business\",\"business\",\"business\",\"business\",\"business\",\"business\",\"business\",\"business\",\"business\",\"business\",\"business\",\"business\",\"business\",\"business\",\"business\",\"business\",\"business\",\"business\",\"business\",\"business\",\"business\",\"business\",\"business\",\"business\",\"business\",\"business\",\"business\",\"business\",\"business\",\"business\",\"business\",\"business\",\"business\",\"business\",\"business\",\"business\",\"business\",\"business\",\"business\",\"business\",\"business\",\"business\",\"business\",\"business\",\"business\",\"business\",\"business\",\"business\",\"business\",\"business\",\"business\",\"business\",\"business\",\"business\",\"business\",\"business\",\"business\",\"business\",\"business\",\"business\",\"business\",\"business\",\"business\",\"business\",\"business\",\"business\",\"business\",\"business\",\"business\",\"business\",\"business\",\"business\",\"business\",\"business\",\"business\",\"business\",\"business\",\"business\",\"business\",\"business\",\"business\",\"business\",\"business\",\"business\",\"business\",\"business\",\"business\",\"business\",\"business\",\"business\",\"business\",\"business\",\"business\",\"business\",\"business\",\"business\",\"business\",\"business\",\"business\",\"business\",\"business\",\"business\",\"business\",\"business\",\"business\",\"business\",\"business\",\"business\",\"business\",\"business\",\"business\",\"business\",\"business\",\"business\",\"business\",\"business\",\"business\",\"business\",\"business\",\"business\",\"business\",\"business\",\"business\",\"business\",\"business\",\"business\",\"business\",\"business\",\"business\",\"business\",\"business\",\"business\",\"business\",\"business\",\"business\",\"business\",\"business\",\"business\",\"business\",\"business\",\"business\",\"business\",\"business\",\"business\",\"business\",\"business\",\"business\",\"business\",\"business\",\"business\",\"business\",\"business\",\"business\",\"business\",\"business\",\"business\",\"business\",\"business\",\"business\",\"business\",\"business\",\"business\",\"business\",\"business\",\"business\",\"business\",\"business\",\"business\",\"business\",\"business\",\"business\",\"business\",\"business\",\"business\",\"business\",\"business\",\"business\",\"business\",\"business\",\"business\",\"business\",\"business\",\"business\",\"business\",\"business\",\"business\",\"business\",\"business\",\"business\",\"business\",\"business\",\"business\",\"business\",\"business\",\"business\",\"business\",\"business\",\"business\",\"business\",\"business\",\"business\",\"business\",\"business\",\"business\",\"business\",\"business\",\"business\",\"business\",\"business\",\"business\",\"business\",\"business\",\"business\",\"business\",\"business\",\"business\",\"business\",\"business\",\"business\",\"entertainment\",\"entertainment\",\"entertainment\",\"entertainment\",\"entertainment\",\"entertainment\",\"entertainment\",\"entertainment\",\"entertainment\",\"entertainment\",\"entertainment\",\"entertainment\",\"entertainment\",\"entertainment\",\"entertainment\",\"entertainment\",\"entertainment\",\"entertainment\",\"entertainment\",\"entertainment\",\"entertainment\",\"entertainment\",\"entertainment\",\"entertainment\",\"entertainment\",\"entertainment\",\"entertainment\",\"entertainment\",\"entertainment\",\"entertainment\",\"entertainment\",\"entertainment\",\"entertainment\",\"entertainment\",\"entertainment\",\"entertainment\",\"entertainment\",\"entertainment\",\"entertainment\",\"entertainment\",\"entertainment\",\"entertainment\",\"entertainment\",\"entertainment\",\"entertainment\",\"entertainment\",\"entertainment\",\"entertainment\",\"entertainment\",\"entertainment\",\"entertainment\",\"entertainment\",\"entertainment\",\"entertainment\",\"entertainment\",\"entertainment\",\"entertainment\",\"entertainment\",\"entertainment\",\"entertainment\",\"entertainment\",\"entertainment\",\"entertainment\",\"entertainment\",\"entertainment\",\"entertainment\",\"entertainment\",\"entertainment\",\"entertainment\",\"entertainment\",\"entertainment\",\"entertainment\",\"entertainment\",\"entertainment\",\"entertainment\",\"entertainment\",\"entertainment\",\"entertainment\",\"entertainment\",\"entertainment\",\"entertainment\",\"entertainment\",\"entertainment\",\"entertainment\",\"entertainment\",\"entertainment\",\"entertainment\",\"entertainment\",\"entertainment\",\"entertainment\",\"entertainment\",\"entertainment\",\"entertainment\",\"entertainment\",\"entertainment\",\"entertainment\",\"entertainment\",\"entertainment\",\"entertainment\",\"entertainment\",\"entertainment\",\"entertainment\",\"entertainment\",\"entertainment\",\"entertainment\",\"entertainment\",\"entertainment\",\"entertainment\",\"entertainment\",\"entertainment\",\"entertainment\",\"entertainment\",\"entertainment\",\"entertainment\",\"entertainment\",\"entertainment\",\"entertainment\",\"entertainment\",\"entertainment\",\"entertainment\",\"entertainment\",\"entertainment\",\"entertainment\",\"entertainment\",\"entertainment\",\"entertainment\",\"entertainment\",\"entertainment\",\"entertainment\",\"entertainment\",\"entertainment\",\"entertainment\",\"entertainment\",\"entertainment\",\"entertainment\",\"entertainment\",\"entertainment\",\"entertainment\",\"entertainment\",\"entertainment\",\"entertainment\",\"entertainment\",\"entertainment\",\"entertainment\",\"entertainment\",\"entertainment\",\"entertainment\",\"entertainment\",\"entertainment\",\"entertainment\",\"entertainment\",\"entertainment\",\"entertainment\",\"entertainment\",\"entertainment\",\"entertainment\",\"entertainment\",\"entertainment\",\"entertainment\",\"entertainment\",\"entertainment\",\"entertainment\",\"entertainment\",\"entertainment\",\"entertainment\",\"entertainment\",\"entertainment\",\"entertainment\",\"entertainment\",\"entertainment\",\"entertainment\",\"entertainment\",\"entertainment\",\"entertainment\",\"entertainment\",\"entertainment\",\"entertainment\",\"entertainment\",\"entertainment\",\"entertainment\",\"entertainment\",\"entertainment\",\"entertainment\",\"entertainment\",\"entertainment\",\"entertainment\",\"entertainment\",\"entertainment\",\"entertainment\",\"entertainment\",\"entertainment\",\"entertainment\",\"entertainment\",\"entertainment\",\"entertainment\",\"entertainment\",\"entertainment\",\"entertainment\",\"entertainment\",\"entertainment\",\"entertainment\",\"entertainment\",\"entertainment\",\"entertainment\",\"entertainment\",\"entertainment\",\"entertainment\",\"entertainment\",\"entertainment\",\"entertainment\",\"entertainment\",\"entertainment\",\"entertainment\",\"entertainment\",\"entertainment\",\"entertainment\",\"entertainment\",\"entertainment\",\"entertainment\",\"entertainment\",\"entertainment\",\"entertainment\",\"entertainment\",\"entertainment\",\"entertainment\",\"entertainment\",\"entertainment\",\"entertainment\",\"entertainment\",\"entertainment\",\"entertainment\",\"entertainment\",\"entertainment\",\"entertainment\",\"entertainment\",\"entertainment\",\"entertainment\",\"entertainment\",\"entertainment\",\"entertainment\",\"entertainment\",\"entertainment\",\"entertainment\",\"entertainment\",\"entertainment\",\"entertainment\",\"entertainment\",\"entertainment\",\"entertainment\",\"entertainment\",\"entertainment\",\"entertainment\",\"entertainment\",\"entertainment\",\"entertainment\",\"entertainment\",\"entertainment\",\"entertainment\",\"entertainment\",\"entertainment\",\"entertainment\",\"entertainment\",\"entertainment\",\"entertainment\",\"entertainment\",\"entertainment\",\"entertainment\",\"entertainment\",\"entertainment\",\"entertainment\",\"entertainment\",\"entertainment\",\"entertainment\",\"entertainment\",\"entertainment\",\"entertainment\",\"entertainment\",\"entertainment\",\"entertainment\",\"entertainment\",\"entertainment\",\"entertainment\",\"entertainment\",\"entertainment\",\"entertainment\",\"entertainment\",\"entertainment\",\"entertainment\",\"entertainment\",\"entertainment\",\"entertainment\",\"entertainment\",\"entertainment\",\"entertainment\",\"entertainment\",\"entertainment\",\"entertainment\",\"entertainment\",\"entertainment\",\"entertainment\",\"entertainment\",\"entertainment\",\"entertainment\",\"entertainment\",\"entertainment\",\"entertainment\",\"entertainment\",\"entertainment\",\"entertainment\",\"entertainment\",\"entertainment\",\"entertainment\",\"entertainment\",\"entertainment\",\"entertainment\",\"entertainment\",\"entertainment\",\"entertainment\",\"entertainment\",\"entertainment\",\"entertainment\",\"entertainment\",\"entertainment\",\"entertainment\",\"entertainment\",\"entertainment\",\"entertainment\",\"entertainment\",\"entertainment\",\"entertainment\",\"entertainment\",\"entertainment\",\"entertainment\",\"entertainment\",\"entertainment\",\"entertainment\",\"entertainment\",\"entertainment\",\"entertainment\",\"entertainment\",\"entertainment\",\"entertainment\",\"entertainment\",\"entertainment\",\"entertainment\",\"entertainment\",\"entertainment\",\"entertainment\",\"entertainment\",\"entertainment\",\"entertainment\",\"entertainment\",\"entertainment\",\"entertainment\",\"entertainment\",\"entertainment\",\"entertainment\",\"entertainment\",\"entertainment\",\"entertainment\",\"entertainment\",\"entertainment\",\"entertainment\",\"entertainment\",\"entertainment\",\"entertainment\",\"entertainment\",\"entertainment\",\"entertainment\",\"entertainment\",\"entertainment\",\"entertainment\",\"entertainment\",\"entertainment\",\"entertainment\",\"entertainment\",\"entertainment\",\"entertainment\",\"entertainment\",\"entertainment\",\"entertainment\",\"entertainment\",\"entertainment\",\"entertainment\",\"entertainment\",\"entertainment\",\"politics\",\"politics\",\"politics\",\"politics\",\"politics\",\"politics\",\"politics\",\"politics\",\"politics\",\"politics\",\"politics\",\"politics\",\"politics\",\"politics\",\"politics\",\"politics\",\"politics\",\"politics\",\"politics\",\"politics\",\"politics\",\"politics\",\"politics\",\"politics\",\"politics\",\"politics\",\"politics\",\"politics\",\"politics\",\"politics\",\"politics\",\"politics\",\"politics\",\"politics\",\"politics\",\"politics\",\"politics\",\"politics\",\"politics\",\"politics\",\"politics\",\"politics\",\"politics\",\"politics\",\"politics\",\"politics\",\"politics\",\"politics\",\"politics\",\"politics\",\"politics\",\"politics\",\"politics\",\"politics\",\"politics\",\"politics\",\"politics\",\"politics\",\"politics\",\"politics\",\"politics\",\"politics\",\"politics\",\"politics\",\"politics\",\"politics\",\"politics\",\"politics\",\"politics\",\"politics\",\"politics\",\"politics\",\"politics\",\"politics\",\"politics\",\"politics\",\"politics\",\"politics\",\"politics\",\"politics\",\"politics\",\"politics\",\"politics\",\"politics\",\"politics\",\"politics\",\"politics\",\"politics\",\"politics\",\"politics\",\"politics\",\"politics\",\"politics\",\"politics\",\"politics\",\"politics\",\"politics\",\"politics\",\"politics\",\"politics\",\"politics\",\"politics\",\"politics\",\"politics\",\"politics\",\"politics\",\"politics\",\"politics\",\"politics\",\"politics\",\"politics\",\"politics\",\"politics\",\"politics\",\"politics\",\"politics\",\"politics\",\"politics\",\"politics\",\"politics\",\"politics\",\"politics\",\"politics\",\"politics\",\"politics\",\"politics\",\"politics\",\"politics\",\"politics\",\"politics\",\"politics\",\"politics\",\"politics\",\"politics\",\"politics\",\"politics\",\"politics\",\"politics\",\"politics\",\"politics\",\"politics\",\"politics\",\"politics\",\"politics\",\"politics\",\"politics\",\"politics\",\"politics\",\"politics\",\"politics\",\"politics\",\"politics\",\"politics\",\"politics\",\"politics\",\"politics\",\"politics\",\"politics\",\"politics\",\"politics\",\"politics\",\"politics\",\"politics\",\"politics\",\"politics\",\"politics\",\"politics\",\"politics\",\"politics\",\"politics\",\"politics\",\"politics\",\"politics\",\"politics\",\"politics\",\"politics\",\"politics\",\"politics\",\"politics\",\"politics\",\"politics\",\"politics\",\"politics\",\"politics\",\"politics\",\"politics\",\"politics\",\"politics\",\"politics\",\"politics\",\"politics\",\"politics\",\"politics\",\"politics\",\"politics\",\"politics\",\"politics\",\"politics\",\"politics\",\"politics\",\"politics\",\"politics\",\"politics\",\"politics\",\"politics\",\"politics\",\"politics\",\"politics\",\"politics\",\"politics\",\"politics\",\"politics\",\"politics\",\"politics\",\"politics\",\"politics\",\"politics\",\"politics\",\"politics\",\"politics\",\"politics\",\"politics\",\"politics\",\"politics\",\"politics\",\"politics\",\"politics\",\"politics\",\"politics\",\"politics\",\"politics\",\"politics\",\"politics\",\"politics\",\"politics\",\"politics\",\"politics\",\"politics\",\"politics\",\"politics\",\"politics\",\"politics\",\"politics\",\"politics\",\"politics\",\"politics\",\"politics\",\"politics\",\"politics\",\"politics\",\"politics\",\"politics\",\"politics\",\"politics\",\"politics\",\"politics\",\"politics\",\"politics\",\"politics\",\"politics\",\"politics\",\"politics\",\"politics\",\"politics\",\"politics\",\"politics\",\"politics\",\"politics\",\"politics\",\"politics\",\"politics\",\"politics\",\"politics\",\"politics\",\"politics\",\"politics\",\"politics\",\"politics\",\"politics\",\"politics\",\"politics\",\"politics\",\"politics\",\"politics\",\"politics\",\"politics\",\"politics\",\"politics\",\"politics\",\"politics\",\"politics\",\"politics\",\"politics\",\"politics\",\"politics\",\"politics\",\"politics\",\"politics\",\"politics\",\"politics\",\"politics\",\"politics\",\"politics\",\"politics\",\"politics\",\"politics\",\"politics\",\"politics\",\"politics\",\"politics\",\"politics\",\"politics\",\"politics\",\"politics\",\"politics\",\"politics\",\"politics\",\"politics\",\"politics\",\"politics\",\"politics\",\"politics\",\"politics\",\"politics\",\"politics\",\"politics\",\"politics\",\"politics\",\"politics\",\"politics\",\"politics\",\"politics\",\"politics\",\"politics\",\"politics\",\"politics\",\"politics\",\"politics\",\"politics\",\"politics\",\"politics\",\"politics\",\"politics\",\"politics\",\"politics\",\"politics\",\"politics\",\"politics\",\"politics\",\"politics\",\"politics\",\"politics\",\"politics\",\"politics\",\"politics\",\"politics\",\"politics\",\"politics\",\"politics\",\"politics\",\"politics\",\"politics\",\"politics\",\"politics\",\"politics\",\"politics\",\"politics\",\"politics\",\"politics\",\"politics\",\"politics\",\"politics\",\"politics\",\"politics\",\"politics\",\"politics\",\"politics\",\"politics\",\"politics\",\"politics\",\"politics\",\"politics\",\"politics\",\"politics\",\"politics\",\"politics\",\"politics\",\"politics\",\"politics\",\"politics\",\"politics\",\"politics\",\"politics\",\"politics\",\"politics\",\"politics\",\"politics\",\"politics\",\"politics\",\"politics\",\"politics\",\"politics\",\"politics\",\"politics\",\"politics\",\"politics\",\"politics\",\"politics\",\"politics\",\"politics\",\"politics\",\"politics\",\"politics\",\"politics\",\"politics\",\"politics\",\"politics\",\"sport\",\"sport\",\"sport\",\"sport\",\"sport\",\"sport\",\"sport\",\"sport\",\"sport\",\"sport\",\"sport\",\"sport\",\"sport\",\"sport\",\"sport\",\"sport\",\"sport\",\"sport\",\"sport\",\"sport\",\"sport\",\"sport\",\"sport\",\"sport\",\"sport\",\"sport\",\"sport\",\"sport\",\"sport\",\"sport\",\"sport\",\"sport\",\"sport\",\"sport\",\"sport\",\"sport\",\"sport\",\"sport\",\"sport\",\"sport\",\"sport\",\"sport\",\"sport\",\"sport\",\"sport\",\"sport\",\"sport\",\"sport\",\"sport\",\"sport\",\"sport\",\"sport\",\"sport\",\"sport\",\"sport\",\"sport\",\"sport\",\"sport\",\"sport\",\"sport\",\"sport\",\"sport\",\"sport\",\"sport\",\"sport\",\"sport\",\"sport\",\"sport\",\"sport\",\"sport\",\"sport\",\"sport\",\"sport\",\"sport\",\"sport\",\"sport\",\"sport\",\"sport\",\"sport\",\"sport\",\"sport\",\"sport\",\"sport\",\"sport\",\"sport\",\"sport\",\"sport\",\"sport\",\"sport\",\"sport\",\"sport\",\"sport\",\"sport\",\"sport\",\"sport\",\"sport\",\"sport\",\"sport\",\"sport\",\"sport\",\"sport\",\"sport\",\"sport\",\"sport\",\"sport\",\"sport\",\"sport\",\"sport\",\"sport\",\"sport\",\"sport\",\"sport\",\"sport\",\"sport\",\"sport\",\"sport\",\"sport\",\"sport\",\"sport\",\"sport\",\"sport\",\"sport\",\"sport\",\"sport\",\"sport\",\"sport\",\"sport\",\"sport\",\"sport\",\"sport\",\"sport\",\"sport\",\"sport\",\"sport\",\"sport\",\"sport\",\"sport\",\"sport\",\"sport\",\"sport\",\"sport\",\"sport\",\"sport\",\"sport\",\"sport\",\"sport\",\"sport\",\"sport\",\"sport\",\"sport\",\"sport\",\"sport\",\"sport\",\"sport\",\"sport\",\"sport\",\"sport\",\"sport\",\"sport\",\"sport\",\"sport\",\"sport\",\"sport\",\"sport\",\"sport\",\"sport\",\"sport\",\"sport\",\"sport\",\"sport\",\"sport\",\"sport\",\"sport\",\"sport\",\"sport\",\"sport\",\"sport\",\"sport\",\"sport\",\"sport\",\"sport\",\"sport\",\"sport\",\"sport\",\"sport\",\"sport\",\"sport\",\"sport\",\"sport\",\"sport\",\"sport\",\"sport\",\"sport\",\"sport\",\"sport\",\"sport\",\"sport\",\"sport\",\"sport\",\"sport\",\"sport\",\"sport\",\"sport\",\"sport\",\"sport\",\"sport\",\"sport\",\"sport\",\"sport\",\"sport\",\"sport\",\"sport\",\"sport\",\"sport\",\"sport\",\"sport\",\"sport\",\"sport\",\"sport\",\"sport\",\"sport\",\"sport\",\"sport\",\"sport\",\"sport\",\"sport\",\"sport\",\"sport\",\"sport\",\"sport\",\"sport\",\"sport\",\"sport\",\"sport\",\"sport\",\"sport\",\"sport\",\"sport\",\"sport\",\"sport\",\"sport\",\"sport\",\"sport\",\"sport\",\"sport\",\"sport\",\"sport\",\"sport\",\"sport\",\"sport\",\"sport\",\"sport\",\"sport\",\"sport\",\"sport\",\"sport\",\"sport\",\"sport\",\"sport\",\"sport\",\"sport\",\"sport\",\"sport\",\"sport\",\"sport\",\"sport\",\"sport\",\"sport\",\"sport\",\"sport\",\"sport\",\"sport\",\"sport\",\"sport\",\"sport\",\"sport\",\"sport\",\"sport\",\"sport\",\"sport\",\"sport\",\"sport\",\"sport\",\"sport\",\"sport\",\"sport\",\"sport\",\"sport\",\"sport\",\"sport\",\"sport\",\"sport\",\"sport\",\"sport\",\"sport\",\"sport\",\"sport\",\"sport\",\"sport\",\"sport\",\"sport\",\"sport\",\"sport\",\"sport\",\"sport\",\"sport\",\"sport\",\"sport\",\"sport\",\"sport\",\"sport\",\"sport\",\"sport\",\"sport\",\"sport\",\"sport\",\"sport\",\"sport\",\"sport\",\"sport\",\"sport\",\"sport\",\"sport\",\"sport\",\"sport\",\"sport\",\"sport\",\"sport\",\"sport\",\"sport\",\"sport\",\"sport\",\"sport\",\"sport\",\"sport\",\"sport\",\"sport\",\"sport\",\"sport\",\"sport\",\"sport\",\"sport\",\"sport\",\"sport\",\"sport\",\"sport\",\"sport\",\"sport\",\"sport\",\"sport\",\"sport\",\"sport\",\"sport\",\"sport\",\"sport\",\"sport\",\"sport\",\"sport\",\"sport\",\"sport\",\"sport\",\"sport\",\"sport\",\"sport\",\"sport\",\"sport\",\"sport\",\"sport\",\"sport\",\"sport\",\"sport\",\"sport\",\"sport\",\"sport\",\"sport\",\"sport\",\"sport\",\"sport\",\"sport\",\"sport\",\"sport\",\"sport\",\"sport\",\"sport\",\"sport\",\"sport\",\"sport\",\"sport\",\"sport\",\"sport\",\"sport\",\"sport\",\"sport\",\"sport\",\"sport\",\"sport\",\"sport\",\"sport\",\"sport\",\"sport\",\"sport\",\"sport\",\"sport\",\"sport\",\"sport\",\"sport\",\"sport\",\"sport\",\"sport\",\"sport\",\"sport\",\"sport\",\"sport\",\"sport\",\"sport\",\"sport\",\"sport\",\"sport\",\"sport\",\"sport\",\"sport\",\"sport\",\"sport\",\"sport\",\"sport\",\"sport\",\"sport\",\"sport\",\"sport\",\"sport\",\"sport\",\"sport\",\"sport\",\"sport\",\"sport\",\"sport\",\"sport\",\"sport\",\"sport\",\"sport\",\"sport\",\"sport\",\"sport\",\"sport\",\"sport\",\"sport\",\"sport\",\"sport\",\"sport\",\"sport\",\"sport\",\"sport\",\"sport\",\"sport\",\"sport\",\"sport\",\"sport\",\"sport\",\"sport\",\"sport\",\"sport\",\"sport\",\"sport\",\"sport\",\"sport\",\"sport\",\"sport\",\"sport\",\"sport\",\"sport\",\"sport\",\"sport\",\"sport\",\"sport\",\"sport\",\"sport\",\"sport\",\"sport\",\"sport\",\"sport\",\"sport\",\"sport\",\"sport\",\"sport\",\"sport\",\"sport\",\"sport\",\"sport\",\"sport\",\"sport\",\"sport\",\"sport\",\"sport\",\"sport\",\"sport\",\"sport\",\"sport\",\"sport\",\"sport\",\"sport\",\"sport\",\"sport\",\"sport\",\"sport\",\"sport\",\"sport\",\"sport\",\"sport\",\"sport\",\"sport\",\"sport\",\"tech\",\"tech\",\"tech\",\"tech\",\"tech\",\"tech\",\"tech\",\"tech\",\"tech\",\"tech\",\"tech\",\"tech\",\"tech\",\"tech\",\"tech\",\"tech\",\"tech\",\"tech\",\"tech\",\"tech\",\"tech\",\"tech\",\"tech\",\"tech\",\"tech\",\"tech\",\"tech\",\"tech\",\"tech\",\"tech\",\"tech\",\"tech\",\"tech\",\"tech\",\"tech\",\"tech\",\"tech\",\"tech\",\"tech\",\"tech\",\"tech\",\"tech\",\"tech\",\"tech\",\"tech\",\"tech\",\"tech\",\"tech\",\"tech\",\"tech\",\"tech\",\"tech\",\"tech\",\"tech\",\"tech\",\"tech\",\"tech\",\"tech\",\"tech\",\"tech\",\"tech\",\"tech\",\"tech\",\"tech\",\"tech\",\"tech\",\"tech\",\"tech\",\"tech\",\"tech\",\"tech\",\"tech\",\"tech\",\"tech\",\"tech\",\"tech\",\"tech\",\"tech\",\"tech\",\"tech\",\"tech\",\"tech\",\"tech\",\"tech\",\"tech\",\"tech\",\"tech\",\"tech\",\"tech\",\"tech\",\"tech\",\"tech\",\"tech\",\"tech\",\"tech\",\"tech\",\"tech\",\"tech\",\"tech\",\"tech\",\"tech\",\"tech\",\"tech\",\"tech\",\"tech\",\"tech\",\"tech\",\"tech\",\"tech\",\"tech\",\"tech\",\"tech\",\"tech\",\"tech\",\"tech\",\"tech\",\"tech\",\"tech\",\"tech\",\"tech\",\"tech\",\"tech\",\"tech\",\"tech\",\"tech\",\"tech\",\"tech\",\"tech\",\"tech\",\"tech\",\"tech\",\"tech\",\"tech\",\"tech\",\"tech\",\"tech\",\"tech\",\"tech\",\"tech\",\"tech\",\"tech\",\"tech\",\"tech\",\"tech\",\"tech\",\"tech\",\"tech\",\"tech\",\"tech\",\"tech\",\"tech\",\"tech\",\"tech\",\"tech\",\"tech\",\"tech\",\"tech\",\"tech\",\"tech\",\"tech\",\"tech\",\"tech\",\"tech\",\"tech\",\"tech\",\"tech\",\"tech\",\"tech\",\"tech\",\"tech\",\"tech\",\"tech\",\"tech\",\"tech\",\"tech\",\"tech\",\"tech\",\"tech\",\"tech\",\"tech\",\"tech\",\"tech\",\"tech\",\"tech\",\"tech\",\"tech\",\"tech\",\"tech\",\"tech\",\"tech\",\"tech\",\"tech\",\"tech\",\"tech\",\"tech\",\"tech\",\"tech\",\"tech\",\"tech\",\"tech\",\"tech\",\"tech\",\"tech\",\"tech\",\"tech\",\"tech\",\"tech\",\"tech\",\"tech\",\"tech\",\"tech\",\"tech\",\"tech\",\"tech\",\"tech\",\"tech\",\"tech\",\"tech\",\"tech\",\"tech\",\"tech\",\"tech\",\"tech\",\"tech\",\"tech\",\"tech\",\"tech\",\"tech\",\"tech\",\"tech\",\"tech\",\"tech\",\"tech\",\"tech\",\"tech\",\"tech\",\"tech\",\"tech\",\"tech\",\"tech\",\"tech\",\"tech\",\"tech\",\"tech\",\"tech\",\"tech\",\"tech\",\"tech\",\"tech\",\"tech\",\"tech\",\"tech\",\"tech\",\"tech\",\"tech\",\"tech\",\"tech\",\"tech\",\"tech\",\"tech\",\"tech\",\"tech\",\"tech\",\"tech\",\"tech\",\"tech\",\"tech\",\"tech\",\"tech\",\"tech\",\"tech\",\"tech\",\"tech\",\"tech\",\"tech\",\"tech\",\"tech\",\"tech\",\"tech\",\"tech\",\"tech\",\"tech\",\"tech\",\"tech\",\"tech\",\"tech\",\"tech\",\"tech\",\"tech\",\"tech\",\"tech\",\"tech\",\"tech\",\"tech\",\"tech\",\"tech\",\"tech\",\"tech\",\"tech\",\"tech\",\"tech\",\"tech\",\"tech\",\"tech\",\"tech\",\"tech\",\"tech\",\"tech\",\"tech\",\"tech\",\"tech\",\"tech\",\"tech\",\"tech\",\"tech\",\"tech\",\"tech\",\"tech\",\"tech\",\"tech\",\"tech\",\"tech\",\"tech\",\"tech\",\"tech\",\"tech\",\"tech\",\"tech\",\"tech\",\"tech\",\"tech\",\"tech\",\"tech\",\"tech\",\"tech\",\"tech\",\"tech\",\"tech\",\"tech\",\"tech\",\"tech\",\"tech\",\"tech\",\"tech\",\"tech\",\"tech\",\"tech\",\"tech\",\"tech\",\"tech\",\"tech\",\"tech\",\"tech\",\"tech\",\"tech\",\"tech\",\"tech\",\"tech\",\"tech\",\"tech\",\"tech\",\"tech\",\"tech\",\"tech\",\"tech\",\"tech\",\"tech\",\"tech\",\"tech\",\"tech\",\"tech\",\"tech\",\"tech\",\"tech\",\"tech\",\"tech\",\"tech\",\"tech\",\"tech\",\"tech\",\"tech\",\"tech\",\"tech\",\"tech\",\"tech\",\"tech\",\"tech\",\"tech\",\"tech\",\"tech\",\"tech\",\"tech\",\"tech\",\"tech\",\"tech\",\"tech\",\"tech\",\"tech\",\"tech\",\"tech\",\"tech\"],\"xaxis\":\"x\",\"yaxis\":\"y\",\"type\":\"histogram\"}],                        {\"template\":{\"data\":{\"histogram2dcontour\":[{\"type\":\"histogram2dcontour\",\"colorbar\":{\"outlinewidth\":0,\"ticks\":\"\"},\"colorscale\":[[0.0,\"#0d0887\"],[0.1111111111111111,\"#46039f\"],[0.2222222222222222,\"#7201a8\"],[0.3333333333333333,\"#9c179e\"],[0.4444444444444444,\"#bd3786\"],[0.5555555555555556,\"#d8576b\"],[0.6666666666666666,\"#ed7953\"],[0.7777777777777778,\"#fb9f3a\"],[0.8888888888888888,\"#fdca26\"],[1.0,\"#f0f921\"]]}],\"choropleth\":[{\"type\":\"choropleth\",\"colorbar\":{\"outlinewidth\":0,\"ticks\":\"\"}}],\"histogram2d\":[{\"type\":\"histogram2d\",\"colorbar\":{\"outlinewidth\":0,\"ticks\":\"\"},\"colorscale\":[[0.0,\"#0d0887\"],[0.1111111111111111,\"#46039f\"],[0.2222222222222222,\"#7201a8\"],[0.3333333333333333,\"#9c179e\"],[0.4444444444444444,\"#bd3786\"],[0.5555555555555556,\"#d8576b\"],[0.6666666666666666,\"#ed7953\"],[0.7777777777777778,\"#fb9f3a\"],[0.8888888888888888,\"#fdca26\"],[1.0,\"#f0f921\"]]}],\"heatmap\":[{\"type\":\"heatmap\",\"colorbar\":{\"outlinewidth\":0,\"ticks\":\"\"},\"colorscale\":[[0.0,\"#0d0887\"],[0.1111111111111111,\"#46039f\"],[0.2222222222222222,\"#7201a8\"],[0.3333333333333333,\"#9c179e\"],[0.4444444444444444,\"#bd3786\"],[0.5555555555555556,\"#d8576b\"],[0.6666666666666666,\"#ed7953\"],[0.7777777777777778,\"#fb9f3a\"],[0.8888888888888888,\"#fdca26\"],[1.0,\"#f0f921\"]]}],\"heatmapgl\":[{\"type\":\"heatmapgl\",\"colorbar\":{\"outlinewidth\":0,\"ticks\":\"\"},\"colorscale\":[[0.0,\"#0d0887\"],[0.1111111111111111,\"#46039f\"],[0.2222222222222222,\"#7201a8\"],[0.3333333333333333,\"#9c179e\"],[0.4444444444444444,\"#bd3786\"],[0.5555555555555556,\"#d8576b\"],[0.6666666666666666,\"#ed7953\"],[0.7777777777777778,\"#fb9f3a\"],[0.8888888888888888,\"#fdca26\"],[1.0,\"#f0f921\"]]}],\"contourcarpet\":[{\"type\":\"contourcarpet\",\"colorbar\":{\"outlinewidth\":0,\"ticks\":\"\"}}],\"contour\":[{\"type\":\"contour\",\"colorbar\":{\"outlinewidth\":0,\"ticks\":\"\"},\"colorscale\":[[0.0,\"#0d0887\"],[0.1111111111111111,\"#46039f\"],[0.2222222222222222,\"#7201a8\"],[0.3333333333333333,\"#9c179e\"],[0.4444444444444444,\"#bd3786\"],[0.5555555555555556,\"#d8576b\"],[0.6666666666666666,\"#ed7953\"],[0.7777777777777778,\"#fb9f3a\"],[0.8888888888888888,\"#fdca26\"],[1.0,\"#f0f921\"]]}],\"surface\":[{\"type\":\"surface\",\"colorbar\":{\"outlinewidth\":0,\"ticks\":\"\"},\"colorscale\":[[0.0,\"#0d0887\"],[0.1111111111111111,\"#46039f\"],[0.2222222222222222,\"#7201a8\"],[0.3333333333333333,\"#9c179e\"],[0.4444444444444444,\"#bd3786\"],[0.5555555555555556,\"#d8576b\"],[0.6666666666666666,\"#ed7953\"],[0.7777777777777778,\"#fb9f3a\"],[0.8888888888888888,\"#fdca26\"],[1.0,\"#f0f921\"]]}],\"mesh3d\":[{\"type\":\"mesh3d\",\"colorbar\":{\"outlinewidth\":0,\"ticks\":\"\"}}],\"scatter\":[{\"fillpattern\":{\"fillmode\":\"overlay\",\"size\":10,\"solidity\":0.2},\"type\":\"scatter\"}],\"parcoords\":[{\"type\":\"parcoords\",\"line\":{\"colorbar\":{\"outlinewidth\":0,\"ticks\":\"\"}}}],\"scatterpolargl\":[{\"type\":\"scatterpolargl\",\"marker\":{\"colorbar\":{\"outlinewidth\":0,\"ticks\":\"\"}}}],\"bar\":[{\"error_x\":{\"color\":\"#2a3f5f\"},\"error_y\":{\"color\":\"#2a3f5f\"},\"marker\":{\"line\":{\"color\":\"#E5ECF6\",\"width\":0.5},\"pattern\":{\"fillmode\":\"overlay\",\"size\":10,\"solidity\":0.2}},\"type\":\"bar\"}],\"scattergeo\":[{\"type\":\"scattergeo\",\"marker\":{\"colorbar\":{\"outlinewidth\":0,\"ticks\":\"\"}}}],\"scatterpolar\":[{\"type\":\"scatterpolar\",\"marker\":{\"colorbar\":{\"outlinewidth\":0,\"ticks\":\"\"}}}],\"histogram\":[{\"marker\":{\"pattern\":{\"fillmode\":\"overlay\",\"size\":10,\"solidity\":0.2}},\"type\":\"histogram\"}],\"scattergl\":[{\"type\":\"scattergl\",\"marker\":{\"colorbar\":{\"outlinewidth\":0,\"ticks\":\"\"}}}],\"scatter3d\":[{\"type\":\"scatter3d\",\"line\":{\"colorbar\":{\"outlinewidth\":0,\"ticks\":\"\"}},\"marker\":{\"colorbar\":{\"outlinewidth\":0,\"ticks\":\"\"}}}],\"scattermapbox\":[{\"type\":\"scattermapbox\",\"marker\":{\"colorbar\":{\"outlinewidth\":0,\"ticks\":\"\"}}}],\"scatterternary\":[{\"type\":\"scatterternary\",\"marker\":{\"colorbar\":{\"outlinewidth\":0,\"ticks\":\"\"}}}],\"scattercarpet\":[{\"type\":\"scattercarpet\",\"marker\":{\"colorbar\":{\"outlinewidth\":0,\"ticks\":\"\"}}}],\"carpet\":[{\"aaxis\":{\"endlinecolor\":\"#2a3f5f\",\"gridcolor\":\"white\",\"linecolor\":\"white\",\"minorgridcolor\":\"white\",\"startlinecolor\":\"#2a3f5f\"},\"baxis\":{\"endlinecolor\":\"#2a3f5f\",\"gridcolor\":\"white\",\"linecolor\":\"white\",\"minorgridcolor\":\"white\",\"startlinecolor\":\"#2a3f5f\"},\"type\":\"carpet\"}],\"table\":[{\"cells\":{\"fill\":{\"color\":\"#EBF0F8\"},\"line\":{\"color\":\"white\"}},\"header\":{\"fill\":{\"color\":\"#C8D4E3\"},\"line\":{\"color\":\"white\"}},\"type\":\"table\"}],\"barpolar\":[{\"marker\":{\"line\":{\"color\":\"#E5ECF6\",\"width\":0.5},\"pattern\":{\"fillmode\":\"overlay\",\"size\":10,\"solidity\":0.2}},\"type\":\"barpolar\"}],\"pie\":[{\"automargin\":true,\"type\":\"pie\"}]},\"layout\":{\"autotypenumbers\":\"strict\",\"colorway\":[\"#636efa\",\"#EF553B\",\"#00cc96\",\"#ab63fa\",\"#FFA15A\",\"#19d3f3\",\"#FF6692\",\"#B6E880\",\"#FF97FF\",\"#FECB52\"],\"font\":{\"color\":\"#2a3f5f\"},\"hovermode\":\"closest\",\"hoverlabel\":{\"align\":\"left\"},\"paper_bgcolor\":\"white\",\"plot_bgcolor\":\"#E5ECF6\",\"polar\":{\"bgcolor\":\"#E5ECF6\",\"angularaxis\":{\"gridcolor\":\"white\",\"linecolor\":\"white\",\"ticks\":\"\"},\"radialaxis\":{\"gridcolor\":\"white\",\"linecolor\":\"white\",\"ticks\":\"\"}},\"ternary\":{\"bgcolor\":\"#E5ECF6\",\"aaxis\":{\"gridcolor\":\"white\",\"linecolor\":\"white\",\"ticks\":\"\"},\"baxis\":{\"gridcolor\":\"white\",\"linecolor\":\"white\",\"ticks\":\"\"},\"caxis\":{\"gridcolor\":\"white\",\"linecolor\":\"white\",\"ticks\":\"\"}},\"coloraxis\":{\"colorbar\":{\"outlinewidth\":0,\"ticks\":\"\"}},\"colorscale\":{\"sequential\":[[0.0,\"#0d0887\"],[0.1111111111111111,\"#46039f\"],[0.2222222222222222,\"#7201a8\"],[0.3333333333333333,\"#9c179e\"],[0.4444444444444444,\"#bd3786\"],[0.5555555555555556,\"#d8576b\"],[0.6666666666666666,\"#ed7953\"],[0.7777777777777778,\"#fb9f3a\"],[0.8888888888888888,\"#fdca26\"],[1.0,\"#f0f921\"]],\"sequentialminus\":[[0.0,\"#0d0887\"],[0.1111111111111111,\"#46039f\"],[0.2222222222222222,\"#7201a8\"],[0.3333333333333333,\"#9c179e\"],[0.4444444444444444,\"#bd3786\"],[0.5555555555555556,\"#d8576b\"],[0.6666666666666666,\"#ed7953\"],[0.7777777777777778,\"#fb9f3a\"],[0.8888888888888888,\"#fdca26\"],[1.0,\"#f0f921\"]],\"diverging\":[[0,\"#8e0152\"],[0.1,\"#c51b7d\"],[0.2,\"#de77ae\"],[0.3,\"#f1b6da\"],[0.4,\"#fde0ef\"],[0.5,\"#f7f7f7\"],[0.6,\"#e6f5d0\"],[0.7,\"#b8e186\"],[0.8,\"#7fbc41\"],[0.9,\"#4d9221\"],[1,\"#276419\"]]},\"xaxis\":{\"gridcolor\":\"white\",\"linecolor\":\"white\",\"ticks\":\"\",\"title\":{\"standoff\":15},\"zerolinecolor\":\"white\",\"automargin\":true,\"zerolinewidth\":2},\"yaxis\":{\"gridcolor\":\"white\",\"linecolor\":\"white\",\"ticks\":\"\",\"title\":{\"standoff\":15},\"zerolinecolor\":\"white\",\"automargin\":true,\"zerolinewidth\":2},\"scene\":{\"xaxis\":{\"backgroundcolor\":\"#E5ECF6\",\"gridcolor\":\"white\",\"linecolor\":\"white\",\"showbackground\":true,\"ticks\":\"\",\"zerolinecolor\":\"white\",\"gridwidth\":2},\"yaxis\":{\"backgroundcolor\":\"#E5ECF6\",\"gridcolor\":\"white\",\"linecolor\":\"white\",\"showbackground\":true,\"ticks\":\"\",\"zerolinecolor\":\"white\",\"gridwidth\":2},\"zaxis\":{\"backgroundcolor\":\"#E5ECF6\",\"gridcolor\":\"white\",\"linecolor\":\"white\",\"showbackground\":true,\"ticks\":\"\",\"zerolinecolor\":\"white\",\"gridwidth\":2}},\"shapedefaults\":{\"line\":{\"color\":\"#2a3f5f\"}},\"annotationdefaults\":{\"arrowcolor\":\"#2a3f5f\",\"arrowhead\":0,\"arrowwidth\":1},\"geo\":{\"bgcolor\":\"white\",\"landcolor\":\"#E5ECF6\",\"subunitcolor\":\"white\",\"showland\":true,\"showlakes\":true,\"lakecolor\":\"white\"},\"title\":{\"x\":0.05},\"mapbox\":{\"style\":\"light\"}}},\"xaxis\":{\"anchor\":\"y\",\"domain\":[0.0,1.0],\"title\":{\"text\":\"labels\"}},\"yaxis\":{\"anchor\":\"x\",\"domain\":[0.0,1.0],\"title\":{\"text\":\"count\"}},\"legend\":{\"tracegroupgap\":0},\"margin\":{\"t\":60},\"barmode\":\"relative\"},                        {\"responsive\": true}                    ).then(function(){\n",
              "                            \n",
              "var gd = document.getElementById('9b2ccac1-279b-4594-b78a-694437efd8fe');\n",
              "var x = new MutationObserver(function (mutations, observer) {{\n",
              "        var display = window.getComputedStyle(gd).display;\n",
              "        if (!display || display === 'none') {{\n",
              "            console.log([gd, 'removed!']);\n",
              "            Plotly.purge(gd);\n",
              "            observer.disconnect();\n",
              "        }}\n",
              "}});\n",
              "\n",
              "// Listen for the removal of the full notebook cells\n",
              "var notebookContainer = gd.closest('#notebook-container');\n",
              "if (notebookContainer) {{\n",
              "    x.observe(notebookContainer, {childList: true});\n",
              "}}\n",
              "\n",
              "// Listen for the clearing of the current output cell\n",
              "var outputEl = gd.closest('.output');\n",
              "if (outputEl) {{\n",
              "    x.observe(outputEl, {childList: true});\n",
              "}}\n",
              "\n",
              "                        })                };                            </script>        </div>\n",
              "</body>\n",
              "</html>"
            ]
          },
          "metadata": {},
          "output_type": "display_data"
        }
      ],
      "source": [
        "fig = px.histogram(df['labels'], x='labels')\n",
        "fig.show()"
      ]
    },
    {
      "cell_type": "code",
      "execution_count": 68,
      "metadata": {
        "id": "T1bhmql6rY-K"
      },
      "outputs": [],
      "source": [
        "df['target'] = df['labels'].astype('category').cat.codes"
      ]
    },
    {
      "cell_type": "code",
      "execution_count": 69,
      "metadata": {
        "colab": {
          "base_uri": "https://localhost:8080/",
          "height": 363
        },
        "id": "85GlHElsrtFw",
        "outputId": "c4603e88-6f3a-4ab2-f199-02645916361b"
      },
      "outputs": [
        {
          "data": {
            "application/vnd.google.colaboratory.intrinsic+json": {
              "summary": "{\n  \"name\": \"df\",\n  \"rows\": 10,\n  \"fields\": [\n    {\n      \"column\": \"text\",\n      \"properties\": {\n        \"dtype\": \"string\",\n        \"num_unique_values\": 10,\n        \"samples\": [\n          \"'My memories of Marley...'\\n\\nTo mark the 60th anniversary of the birth of reggae star Bob Marley, Rob Partridge - Marley's former head of press at Island Records - remembers the man behind the legend.\\n\\nPartridge worked with Marley from 1977 until the Jamaican musician's death in 1981.\\n\\n: \\\"I joined Island Records in 1977 and the first week I was there I worked on his show at the Rainbow Theatre. It was one of the last dates he did in London.\\\"\\n\\n: The album Exodus came out in 1977 and that provided five hits and confirmed his global superstar status. \\\"By 1979 he was the biggest touring attraction in the world. I remember going to see dates in Milan and Turin and they were enormous concerts.\\\"\\n\\n: Bob was one of the most mesmeric people I've ever had the privilege to work with. \\\"He must have had an iron will to succeed. Bob was a very driven individual. You realised from the start there was a manifest destiny within him that he believed in. He didn't suffer fools gladly. At the risk of stating the obvious, he was an extraordinary song writer and his stage act was perhaps the greatest I've ever seen. I saw him many times.\\\"\\n\\n: \\\"I recall in 1978 he came to the UK for Top of the Pops and a Daily Mirror journalist did a half-hour interview. It was interrupted to do a rehearsal. He came back into the dressing room to resume the interview but saw a World Cup match on TV.\\n\\n\\\"He sat down in front of the TV and after 10 minutes it was obvious he wasn't going to move. That was the end of it. The Mirror had a very truncated interview. \\\"The last time I saw him was in London in 1980. I arranged for him to play four days of football indoors in Fulham. \\\"Bob was a good player. We are talking about Jamaican-style football. He was an attacking midfield player. His team assembled wherever his gigs were. We played in Brazil against some World Cup-winning players.\\\"\\n\\n: It was always a struggle for him to connect with Black America. Reggae did not correspond with disco in the 70s. But Bob in the 1990s became one of the great icons in America and the Third World. \\\"In 1991, ten years after his death, he sold more records than at any time during his life. \\\"We saw Black America taking Bob into their hearts for the first time.\\\"\\n\\n: \\\"Bob, in worldwide terms, is the greatest music star there has ever been. If you went to Africa he would be recognised everywhere, in places John Lennon or Elvis wouldn't be. \\\"No disrespect to the other artists but a case can be made for him as the greatest, the best and the most influential artist in popular music.\\\"\\n\\n: Well 1981 was to be the year he toured Africa with Stevie Wonder. He had only performed in Zimbabwe and Guinea before. \\\"Of course the 1981 tour never happened, but the whole of Africa would have embraced him. We can't speculate but he was at the height of his powers and just 36 years old. I had no sense his career was going to go downhill.\\\"\\n\\n: \\\"Bob was endlessly optimistic about the way Africa would turn out. He realised that nothing was perfect but he had total belief in the power of mankind. \\\"I'm sure if he were alive today he would believe Africa would firstly become politically free and secondly be able to defeat the Aids epidemic.\\\"\\n\\n: \\\"The final tune of his final album was Redemption Song - one of the most incredible classics of all time.\\\"\",\n          \"LSE 'sets date for takeover deal'\\n\\nThe London Stock Exchange (LSE) is planning to announce a preferred takeover by the end of the month, newspaper reports claim.\\n\\nThe Sunday Telegraph said the LSE's plan was further evidence it wants to retain tight control over its destiny. Both Deutsche Boerse and rival Euronext held talks with the London market last week over a possible offer. A \\u00a31.3bn offer from Deutsche Boerse has already been rejected, while Euronext has said it will make an all cash bid. Speculation suggests that Paris-based Euronext has the facilities in place to make a bid of \\u00a31.4bn, while its German rival may up its bid to the \\u00a31.5bn mark. Neither has yet tabled a formal bid, but the LSE is expected to hold further talks with the two parties later this week. However, the Sunday Telegraph report added that there are signs that Deutsche Boerse chief executive Werner Seifert is becoming increasingly impatient with the LSE's managed bid process.\\n\\nDespite insisting he wants to agree a recommended deal with the LSE's board, the newspaper suggested he may pull out of the process and put an offer directly to shareholders instead. The newspaper also claimed Mr Seifert was becoming \\\"increasingly frustrated\\\" with the pace of negotiations since Deutsche Boerse's \\u00a31.3bn offer was rejected in mid-December, in particular the LSE's decision to suspend talks over the Christmas period. Meanwhile, the German exchange's offer has come under fire recently. Unions for Deutsche Boerse staff in Frankfurt have reportedly expressed fears that up to 300 jobs would be moved to London if the takeover is successful. Others claim it will weaken the city's status as Europe's financial centre, while German politicians are also said to be angry over the market operator's promise to move its headquarters to London if a bid is successful. A further stumbling block is Deutsche Boerse's control over its Clearstream unit, the clearing house that processes securities transactions. LSE shareholders fear it would create a monopoly situation, weakening the position of shareholders when negotiating lower transaction fees for share dealings. LSE and Euronext do not have control over their clearing and settlement operations, a situation which critics say is more transparent and competitive.\",\n          \"Wolves appoint Hoddle as manager\\n\\nGlenn Hoddle has been unveiled as the new Wolves manager.\\n\\nThe ex-England coach has been given a six-month contract to succeed Dave Jones, who was sacked after the club's poor start to the season. Wolves chairman Rick Hayward said: \\\"We're delighted Glenn is here. He has a six-month contract so we can test each other out and see if it works.\\\" Hoddle, who will work alongside Stuart Gray, has been out of the game since he was sacked by Spurs in 2003. Gray, who has been caretaker manager, was assistant boss when Hoddle was manager at Southampton. \\\"I'm delighted to be here,\\\" said Hoddle.\\n\\n\\\"I saw the massive potential that Wolves have got and their desire and amibition to get back into the Premiership parallels my ambitions. \\\"Stuart Gray has done a fantastic job as caretaker manager. We've worked together at Southampton and I'm delighted to be back with him.\\\" Wolves chief executive Jez Moxey defended the decision to give Hoddle a short-term contract. \\\"We hope it will work out for both parties and we extend it for the long term,\\\" he said. \\\"Most managers want a four-year contract and then expect it to be paid off if it doesn't work out. \\\"For somebody of Glenn's calibre to come in on a short-term contract and put his reputation on the line, it demonstrates his commitment and self-belief and the potential he thinks is here.\\\" Hayward revealed that Hoddle was one of the first to be approached after Jones' departure. \\\"He was not available at the time because he was looking at various other things,\\\" he explained. \\\"Five weeks later we're back on track and this a tremendous opportunity for Wolves.\\\"\\n\\nHoddle began his managerial career as player-boss with Swindon before moving on to Chelsea and then taking up the England job. His spell in charge of the national side came to an end after the 1998 World Cup when he made controversial remarks about the disabled in a newspaper interview. The 47-year-old later returned to management with Southampton, where he again succeeded Jones - as he has now done at Wolves. He engineered an upturn in Saints' fortunes before being lured to White Hart Lane by Tottenham - the club where he made his name as a player. That relationship turned sour at the start of the last campaign and he left the London club early last season. Since then he has applied unsuccessfully for the post of France manager and had also been linked with a return to Southampton. Wolves are currently 17th in the Championship and have a home game against Millwall on Tuesday.\"\n        ],\n        \"semantic_type\": \"\",\n        \"description\": \"\"\n      }\n    },\n    {\n      \"column\": \"labels\",\n      \"properties\": {\n        \"dtype\": \"category\",\n        \"num_unique_values\": 4,\n        \"samples\": [\n          \"sport\",\n          \"entertainment\",\n          \"business\"\n        ],\n        \"semantic_type\": \"\",\n        \"description\": \"\"\n      }\n    },\n    {\n      \"column\": \"target\",\n      \"properties\": {\n        \"dtype\": \"int8\",\n        \"num_unique_values\": 4,\n        \"samples\": [\n          3,\n          1,\n          0\n        ],\n        \"semantic_type\": \"\",\n        \"description\": \"\"\n      }\n    }\n  ]\n}",
              "type": "dataframe"
            },
            "text/html": [
              "\n",
              "  <div id=\"df-8119e1ca-1aea-4d7e-a424-3efbb20dfa37\" class=\"colab-df-container\">\n",
              "    <div>\n",
              "<style scoped>\n",
              "    .dataframe tbody tr th:only-of-type {\n",
              "        vertical-align: middle;\n",
              "    }\n",
              "\n",
              "    .dataframe tbody tr th {\n",
              "        vertical-align: top;\n",
              "    }\n",
              "\n",
              "    .dataframe thead th {\n",
              "        text-align: right;\n",
              "    }\n",
              "</style>\n",
              "<table border=\"1\" class=\"dataframe\">\n",
              "  <thead>\n",
              "    <tr style=\"text-align: right;\">\n",
              "      <th></th>\n",
              "      <th>text</th>\n",
              "      <th>labels</th>\n",
              "      <th>target</th>\n",
              "    </tr>\n",
              "  </thead>\n",
              "  <tbody>\n",
              "    <tr>\n",
              "      <th>414</th>\n",
              "      <td>UK house prices dip in November\\n\\nUK house pr...</td>\n",
              "      <td>business</td>\n",
              "      <td>0</td>\n",
              "    </tr>\n",
              "    <tr>\n",
              "      <th>420</th>\n",
              "      <td>LSE 'sets date for takeover deal'\\n\\nThe Londo...</td>\n",
              "      <td>business</td>\n",
              "      <td>0</td>\n",
              "    </tr>\n",
              "    <tr>\n",
              "      <th>1644</th>\n",
              "      <td>Harinordoquy suffers France axe\\n\\nNumber eigh...</td>\n",
              "      <td>sport</td>\n",
              "      <td>3</td>\n",
              "    </tr>\n",
              "    <tr>\n",
              "      <th>416</th>\n",
              "      <td>Barclays shares up on merger talk\\n\\nShares in...</td>\n",
              "      <td>business</td>\n",
              "      <td>0</td>\n",
              "    </tr>\n",
              "    <tr>\n",
              "      <th>1232</th>\n",
              "      <td>Campaign 'cold calls' questioned\\n\\nLabour and...</td>\n",
              "      <td>politics</td>\n",
              "      <td>2</td>\n",
              "    </tr>\n",
              "    <tr>\n",
              "      <th>1544</th>\n",
              "      <td>Wolves appoint Hoddle as manager\\n\\nGlenn Hodd...</td>\n",
              "      <td>sport</td>\n",
              "      <td>3</td>\n",
              "    </tr>\n",
              "    <tr>\n",
              "      <th>1748</th>\n",
              "      <td>Hantuchova in Dubai last eight\\n\\nDaniela Hant...</td>\n",
              "      <td>sport</td>\n",
              "      <td>3</td>\n",
              "    </tr>\n",
              "    <tr>\n",
              "      <th>1264</th>\n",
              "      <td>BAA support ahead of court battle\\n\\nUK airpor...</td>\n",
              "      <td>politics</td>\n",
              "      <td>2</td>\n",
              "    </tr>\n",
              "    <tr>\n",
              "      <th>629</th>\n",
              "      <td>'My memories of Marley...'\\n\\nTo mark the 60th...</td>\n",
              "      <td>entertainment</td>\n",
              "      <td>1</td>\n",
              "    </tr>\n",
              "    <tr>\n",
              "      <th>1043</th>\n",
              "      <td>Labour trio 'had vote-rig factory'\\n\\nThree La...</td>\n",
              "      <td>politics</td>\n",
              "      <td>2</td>\n",
              "    </tr>\n",
              "  </tbody>\n",
              "</table>\n",
              "</div>\n",
              "    <div class=\"colab-df-buttons\">\n",
              "\n",
              "  <div class=\"colab-df-container\">\n",
              "    <button class=\"colab-df-convert\" onclick=\"convertToInteractive('df-8119e1ca-1aea-4d7e-a424-3efbb20dfa37')\"\n",
              "            title=\"Convert this dataframe to an interactive table.\"\n",
              "            style=\"display:none;\">\n",
              "\n",
              "  <svg xmlns=\"http://www.w3.org/2000/svg\" height=\"24px\" viewBox=\"0 -960 960 960\">\n",
              "    <path d=\"M120-120v-720h720v720H120Zm60-500h600v-160H180v160Zm220 220h160v-160H400v160Zm0 220h160v-160H400v160ZM180-400h160v-160H180v160Zm440 0h160v-160H620v160ZM180-180h160v-160H180v160Zm440 0h160v-160H620v160Z\"/>\n",
              "  </svg>\n",
              "    </button>\n",
              "\n",
              "  <style>\n",
              "    .colab-df-container {\n",
              "      display:flex;\n",
              "      gap: 12px;\n",
              "    }\n",
              "\n",
              "    .colab-df-convert {\n",
              "      background-color: #E8F0FE;\n",
              "      border: none;\n",
              "      border-radius: 50%;\n",
              "      cursor: pointer;\n",
              "      display: none;\n",
              "      fill: #1967D2;\n",
              "      height: 32px;\n",
              "      padding: 0 0 0 0;\n",
              "      width: 32px;\n",
              "    }\n",
              "\n",
              "    .colab-df-convert:hover {\n",
              "      background-color: #E2EBFA;\n",
              "      box-shadow: 0px 1px 2px rgba(60, 64, 67, 0.3), 0px 1px 3px 1px rgba(60, 64, 67, 0.15);\n",
              "      fill: #174EA6;\n",
              "    }\n",
              "\n",
              "    .colab-df-buttons div {\n",
              "      margin-bottom: 4px;\n",
              "    }\n",
              "\n",
              "    [theme=dark] .colab-df-convert {\n",
              "      background-color: #3B4455;\n",
              "      fill: #D2E3FC;\n",
              "    }\n",
              "\n",
              "    [theme=dark] .colab-df-convert:hover {\n",
              "      background-color: #434B5C;\n",
              "      box-shadow: 0px 1px 3px 1px rgba(0, 0, 0, 0.15);\n",
              "      filter: drop-shadow(0px 1px 2px rgba(0, 0, 0, 0.3));\n",
              "      fill: #FFFFFF;\n",
              "    }\n",
              "  </style>\n",
              "\n",
              "    <script>\n",
              "      const buttonEl =\n",
              "        document.querySelector('#df-8119e1ca-1aea-4d7e-a424-3efbb20dfa37 button.colab-df-convert');\n",
              "      buttonEl.style.display =\n",
              "        google.colab.kernel.accessAllowed ? 'block' : 'none';\n",
              "\n",
              "      async function convertToInteractive(key) {\n",
              "        const element = document.querySelector('#df-8119e1ca-1aea-4d7e-a424-3efbb20dfa37');\n",
              "        const dataTable =\n",
              "          await google.colab.kernel.invokeFunction('convertToInteractive',\n",
              "                                                    [key], {});\n",
              "        if (!dataTable) return;\n",
              "\n",
              "        const docLinkHtml = 'Like what you see? Visit the ' +\n",
              "          '<a target=\"_blank\" href=https://colab.research.google.com/notebooks/data_table.ipynb>data table notebook</a>'\n",
              "          + ' to learn more about interactive tables.';\n",
              "        element.innerHTML = '';\n",
              "        dataTable['output_type'] = 'display_data';\n",
              "        await google.colab.output.renderOutput(dataTable, element);\n",
              "        const docLink = document.createElement('div');\n",
              "        docLink.innerHTML = docLinkHtml;\n",
              "        element.appendChild(docLink);\n",
              "      }\n",
              "    </script>\n",
              "  </div>\n",
              "\n",
              "\n",
              "<div id=\"df-9a496df4-36fc-4131-af53-8fa8f0eb7ccf\">\n",
              "  <button class=\"colab-df-quickchart\" onclick=\"quickchart('df-9a496df4-36fc-4131-af53-8fa8f0eb7ccf')\"\n",
              "            title=\"Suggest charts\"\n",
              "            style=\"display:none;\">\n",
              "\n",
              "<svg xmlns=\"http://www.w3.org/2000/svg\" height=\"24px\"viewBox=\"0 0 24 24\"\n",
              "     width=\"24px\">\n",
              "    <g>\n",
              "        <path d=\"M19 3H5c-1.1 0-2 .9-2 2v14c0 1.1.9 2 2 2h14c1.1 0 2-.9 2-2V5c0-1.1-.9-2-2-2zM9 17H7v-7h2v7zm4 0h-2V7h2v10zm4 0h-2v-4h2v4z\"/>\n",
              "    </g>\n",
              "</svg>\n",
              "  </button>\n",
              "\n",
              "<style>\n",
              "  .colab-df-quickchart {\n",
              "      --bg-color: #E8F0FE;\n",
              "      --fill-color: #1967D2;\n",
              "      --hover-bg-color: #E2EBFA;\n",
              "      --hover-fill-color: #174EA6;\n",
              "      --disabled-fill-color: #AAA;\n",
              "      --disabled-bg-color: #DDD;\n",
              "  }\n",
              "\n",
              "  [theme=dark] .colab-df-quickchart {\n",
              "      --bg-color: #3B4455;\n",
              "      --fill-color: #D2E3FC;\n",
              "      --hover-bg-color: #434B5C;\n",
              "      --hover-fill-color: #FFFFFF;\n",
              "      --disabled-bg-color: #3B4455;\n",
              "      --disabled-fill-color: #666;\n",
              "  }\n",
              "\n",
              "  .colab-df-quickchart {\n",
              "    background-color: var(--bg-color);\n",
              "    border: none;\n",
              "    border-radius: 50%;\n",
              "    cursor: pointer;\n",
              "    display: none;\n",
              "    fill: var(--fill-color);\n",
              "    height: 32px;\n",
              "    padding: 0;\n",
              "    width: 32px;\n",
              "  }\n",
              "\n",
              "  .colab-df-quickchart:hover {\n",
              "    background-color: var(--hover-bg-color);\n",
              "    box-shadow: 0 1px 2px rgba(60, 64, 67, 0.3), 0 1px 3px 1px rgba(60, 64, 67, 0.15);\n",
              "    fill: var(--button-hover-fill-color);\n",
              "  }\n",
              "\n",
              "  .colab-df-quickchart-complete:disabled,\n",
              "  .colab-df-quickchart-complete:disabled:hover {\n",
              "    background-color: var(--disabled-bg-color);\n",
              "    fill: var(--disabled-fill-color);\n",
              "    box-shadow: none;\n",
              "  }\n",
              "\n",
              "  .colab-df-spinner {\n",
              "    border: 2px solid var(--fill-color);\n",
              "    border-color: transparent;\n",
              "    border-bottom-color: var(--fill-color);\n",
              "    animation:\n",
              "      spin 1s steps(1) infinite;\n",
              "  }\n",
              "\n",
              "  @keyframes spin {\n",
              "    0% {\n",
              "      border-color: transparent;\n",
              "      border-bottom-color: var(--fill-color);\n",
              "      border-left-color: var(--fill-color);\n",
              "    }\n",
              "    20% {\n",
              "      border-color: transparent;\n",
              "      border-left-color: var(--fill-color);\n",
              "      border-top-color: var(--fill-color);\n",
              "    }\n",
              "    30% {\n",
              "      border-color: transparent;\n",
              "      border-left-color: var(--fill-color);\n",
              "      border-top-color: var(--fill-color);\n",
              "      border-right-color: var(--fill-color);\n",
              "    }\n",
              "    40% {\n",
              "      border-color: transparent;\n",
              "      border-right-color: var(--fill-color);\n",
              "      border-top-color: var(--fill-color);\n",
              "    }\n",
              "    60% {\n",
              "      border-color: transparent;\n",
              "      border-right-color: var(--fill-color);\n",
              "    }\n",
              "    80% {\n",
              "      border-color: transparent;\n",
              "      border-right-color: var(--fill-color);\n",
              "      border-bottom-color: var(--fill-color);\n",
              "    }\n",
              "    90% {\n",
              "      border-color: transparent;\n",
              "      border-bottom-color: var(--fill-color);\n",
              "    }\n",
              "  }\n",
              "</style>\n",
              "\n",
              "  <script>\n",
              "    async function quickchart(key) {\n",
              "      const quickchartButtonEl =\n",
              "        document.querySelector('#' + key + ' button');\n",
              "      quickchartButtonEl.disabled = true;  // To prevent multiple clicks.\n",
              "      quickchartButtonEl.classList.add('colab-df-spinner');\n",
              "      try {\n",
              "        const charts = await google.colab.kernel.invokeFunction(\n",
              "            'suggestCharts', [key], {});\n",
              "      } catch (error) {\n",
              "        console.error('Error during call to suggestCharts:', error);\n",
              "      }\n",
              "      quickchartButtonEl.classList.remove('colab-df-spinner');\n",
              "      quickchartButtonEl.classList.add('colab-df-quickchart-complete');\n",
              "    }\n",
              "    (() => {\n",
              "      let quickchartButtonEl =\n",
              "        document.querySelector('#df-9a496df4-36fc-4131-af53-8fa8f0eb7ccf button');\n",
              "      quickchartButtonEl.style.display =\n",
              "        google.colab.kernel.accessAllowed ? 'block' : 'none';\n",
              "    })();\n",
              "  </script>\n",
              "</div>\n",
              "\n",
              "    </div>\n",
              "  </div>\n"
            ],
            "text/plain": [
              "                                                   text         labels  target\n",
              "414   UK house prices dip in November\\n\\nUK house pr...       business       0\n",
              "420   LSE 'sets date for takeover deal'\\n\\nThe Londo...       business       0\n",
              "1644  Harinordoquy suffers France axe\\n\\nNumber eigh...          sport       3\n",
              "416   Barclays shares up on merger talk\\n\\nShares in...       business       0\n",
              "1232  Campaign 'cold calls' questioned\\n\\nLabour and...       politics       2\n",
              "1544  Wolves appoint Hoddle as manager\\n\\nGlenn Hodd...          sport       3\n",
              "1748  Hantuchova in Dubai last eight\\n\\nDaniela Hant...          sport       3\n",
              "1264  BAA support ahead of court battle\\n\\nUK airpor...       politics       2\n",
              "629   'My memories of Marley...'\\n\\nTo mark the 60th...  entertainment       1\n",
              "1043  Labour trio 'had vote-rig factory'\\n\\nThree La...       politics       2"
            ]
          },
          "execution_count": 69,
          "metadata": {},
          "output_type": "execute_result"
        }
      ],
      "source": [
        "df.sample(10)"
      ]
    },
    {
      "cell_type": "code",
      "execution_count": 70,
      "metadata": {
        "id": "Ru6D0QZVraCT"
      },
      "outputs": [],
      "source": [
        "df_train, df_test = train_test_split(df, test_size=0.3)"
      ]
    },
    {
      "cell_type": "code",
      "execution_count": 71,
      "metadata": {
        "id": "9QT0ZfTura0E"
      },
      "outputs": [],
      "source": [
        "tokenizer = Tokenizer(num_words=10000)\n",
        "tokenizer.fit_on_texts(df_train['text'])\n",
        "Xtrain = tokenizer.texts_to_sequences(df_train['text'])\n",
        "Xtest = tokenizer.texts_to_sequences(df_test['text'])"
      ]
    },
    {
      "cell_type": "code",
      "execution_count": 72,
      "metadata": {
        "id": "H9rsl7cHrbhw"
      },
      "outputs": [],
      "source": [
        "word2idx = tokenizer.word_index\n",
        "V = len(word2idx) + 1"
      ]
    },
    {
      "cell_type": "code",
      "execution_count": 73,
      "metadata": {
        "id": "7OurmZqtrcYf"
      },
      "outputs": [],
      "source": [
        "Xtrain = pad_sequences(Xtrain)\n",
        "dim = Xtrain.shape[1]\n",
        "Xtest = pad_sequences(Xtest, maxlen=dim)"
      ]
    },
    {
      "cell_type": "code",
      "execution_count": 88,
      "metadata": {
        "id": "erpxrcN3rizs"
      },
      "outputs": [],
      "source": [
        "input = Input(shape=(dim,))\n",
        "x = Embedding(V, 50)(input)\n",
        "x = Conv1D(32, 3, activation='relu')(x)\n",
        "x = GlobalMaxPooling1D()(x)\n",
        "output = Dense(5)(x)"
      ]
    },
    {
      "cell_type": "code",
      "execution_count": 89,
      "metadata": {
        "id": "44GqAymWrki7"
      },
      "outputs": [],
      "source": [
        "model = Model(input, output, name='Text_CNN')"
      ]
    },
    {
      "cell_type": "code",
      "execution_count": 90,
      "metadata": {
        "colab": {
          "base_uri": "https://localhost:8080/"
        },
        "id": "Um_N0ofdr60m",
        "outputId": "898d1c88-a775-4156-ba16-72cb01ab601d"
      },
      "outputs": [
        {
          "name": "stdout",
          "output_type": "stream",
          "text": [
            "Model: \"Text_CNN\"\n",
            "_________________________________________________________________\n",
            " Layer (type)                Output Shape              Param #   \n",
            "=================================================================\n",
            " input_15 (InputLayer)       [(None, 4178)]            0         \n",
            "                                                                 \n",
            " embedding_14 (Embedding)    (None, 4178, 50)          1387450   \n",
            "                                                                 \n",
            " conv1d_14 (Conv1D)          (None, 4176, 32)          4832      \n",
            "                                                                 \n",
            " global_max_pooling1d_14 (G  (None, 32)                0         \n",
            " lobalMaxPooling1D)                                              \n",
            "                                                                 \n",
            " dense_14 (Dense)            (None, 5)                 165       \n",
            "                                                                 \n",
            "=================================================================\n",
            "Total params: 1392447 (5.31 MB)\n",
            "Trainable params: 1392447 (5.31 MB)\n",
            "Non-trainable params: 0 (0.00 Byte)\n",
            "_________________________________________________________________\n"
          ]
        }
      ],
      "source": [
        "model.summary()"
      ]
    },
    {
      "cell_type": "code",
      "execution_count": 93,
      "metadata": {
        "id": "1yNQk-TUrmJC"
      },
      "outputs": [],
      "source": [
        "model.compile(\n",
        "    optimizer=Adam(learning_rate=0.001),\n",
        "    loss=SparseCategoricalCrossentropy(from_logits=True),\n",
        "    metrics=['accuracy']\n",
        ")"
      ]
    },
    {
      "cell_type": "code",
      "execution_count": 94,
      "metadata": {
        "colab": {
          "base_uri": "https://localhost:8080/"
        },
        "id": "J_si6XaSrm-z",
        "outputId": "e692d5db-052f-4822-ec3c-951abc0b7bab"
      },
      "outputs": [
        {
          "name": "stdout",
          "output_type": "stream",
          "text": [
            "Epoch 1/10\n",
            "25/25 [==============================] - 14s 525ms/step - loss: 1.5231 - accuracy: 0.4547 - val_loss: 1.4854 - val_accuracy: 0.6407\n",
            "Epoch 2/10\n",
            "25/25 [==============================] - 12s 476ms/step - loss: 1.3731 - accuracy: 0.7649 - val_loss: 1.3341 - val_accuracy: 0.7500\n",
            "Epoch 3/10\n",
            "25/25 [==============================] - 12s 470ms/step - loss: 1.1550 - accuracy: 0.8619 - val_loss: 1.1109 - val_accuracy: 0.8383\n",
            "Epoch 4/10\n",
            "25/25 [==============================] - 11s 455ms/step - loss: 0.8735 - accuracy: 0.9242 - val_loss: 0.8383 - val_accuracy: 0.9042\n",
            "Epoch 5/10\n",
            "25/25 [==============================] - 10s 403ms/step - loss: 0.5869 - accuracy: 0.9550 - val_loss: 0.5928 - val_accuracy: 0.9356\n",
            "Epoch 6/10\n",
            "25/25 [==============================] - 12s 475ms/step - loss: 0.3723 - accuracy: 0.9724 - val_loss: 0.4300 - val_accuracy: 0.9506\n",
            "Epoch 7/10\n",
            "25/25 [==============================] - 12s 484ms/step - loss: 0.2416 - accuracy: 0.9846 - val_loss: 0.3335 - val_accuracy: 0.9566\n",
            "Epoch 8/10\n",
            "25/25 [==============================] - 12s 482ms/step - loss: 0.1639 - accuracy: 0.9904 - val_loss: 0.2767 - val_accuracy: 0.9596\n",
            "Epoch 9/10\n",
            "25/25 [==============================] - 12s 472ms/step - loss: 0.1161 - accuracy: 0.9923 - val_loss: 0.2387 - val_accuracy: 0.9656\n",
            "Epoch 10/10\n",
            "25/25 [==============================] - 10s 399ms/step - loss: 0.0852 - accuracy: 0.9949 - val_loss: 0.2149 - val_accuracy: 0.9611\n"
          ]
        }
      ],
      "source": [
        "result = model.fit(\n",
        "    Xtrain, df_train['target'],\n",
        "    validation_data=(Xtest, df_test['target']),\n",
        "    epochs=10,\n",
        "    batch_size=64,\n",
        ")"
      ]
    },
    {
      "cell_type": "code",
      "execution_count": 95,
      "metadata": {
        "colab": {
          "base_uri": "https://localhost:8080/",
          "height": 542
        },
        "id": "udQ5YI3VnGzH",
        "outputId": "9d2cc602-7dfc-4e5a-e2b2-eba190310b56"
      },
      "outputs": [
        {
          "data": {
            "text/html": [
              "<html>\n",
              "<head><meta charset=\"utf-8\" /></head>\n",
              "<body>\n",
              "    <div>            <script src=\"https://cdnjs.cloudflare.com/ajax/libs/mathjax/2.7.5/MathJax.js?config=TeX-AMS-MML_SVG\"></script><script type=\"text/javascript\">if (window.MathJax && window.MathJax.Hub && window.MathJax.Hub.Config) {window.MathJax.Hub.Config({SVG: {font: \"STIX-Web\"}});}</script>                <script type=\"text/javascript\">window.PlotlyConfig = {MathJaxConfig: 'local'};</script>\n",
              "        <script charset=\"utf-8\" src=\"https://cdn.plot.ly/plotly-2.24.1.min.js\"></script>                <div id=\"9bac9e71-efdc-47fa-a928-76df46c7001b\" class=\"plotly-graph-div\" style=\"height:525px; width:100%;\"></div>            <script type=\"text/javascript\">                                    window.PLOTLYENV=window.PLOTLYENV || {};                                    if (document.getElementById(\"9bac9e71-efdc-47fa-a928-76df46c7001b\")) {                    Plotly.newPlot(                        \"9bac9e71-efdc-47fa-a928-76df46c7001b\",                        [{\"hovertemplate\":\"variable=loss\\u003cbr\\u003eEpoch=%{x}\\u003cbr\\u003eLoss=%{y}\\u003cextra\\u003e\\u003c\\u002fextra\\u003e\",\"legendgroup\":\"loss\",\"line\":{\"color\":\"#636efa\",\"dash\":\"solid\"},\"marker\":{\"symbol\":\"circle\"},\"mode\":\"lines\",\"name\":\"loss\",\"orientation\":\"v\",\"showlegend\":true,\"x\":[1,2,3,4,5,6,7,8,9,10],\"xaxis\":\"x\",\"y\":[1.5230751037597656,1.3731354475021362,1.1549983024597168,0.8734834790229797,0.5868838429450989,0.3723459243774414,0.24158930778503418,0.16385556757450104,0.11607997864484787,0.08515970408916473],\"yaxis\":\"y\",\"type\":\"scatter\"},{\"hovertemplate\":\"variable=val_loss\\u003cbr\\u003eEpoch=%{x}\\u003cbr\\u003eLoss=%{y}\\u003cextra\\u003e\\u003c\\u002fextra\\u003e\",\"legendgroup\":\"val_loss\",\"line\":{\"color\":\"#EF553B\",\"dash\":\"solid\"},\"marker\":{\"symbol\":\"circle\"},\"mode\":\"lines\",\"name\":\"val_loss\",\"orientation\":\"v\",\"showlegend\":true,\"x\":[1,2,3,4,5,6,7,8,9,10],\"xaxis\":\"x\",\"y\":[1.4854118824005127,1.3341034650802612,1.1108911037445068,0.8382778763771057,0.5927767753601074,0.4299962818622589,0.3334595859050751,0.2767282724380493,0.23869936168193817,0.2149144411087036],\"yaxis\":\"y\",\"type\":\"scatter\"}],                        {\"template\":{\"data\":{\"histogram2dcontour\":[{\"type\":\"histogram2dcontour\",\"colorbar\":{\"outlinewidth\":0,\"ticks\":\"\"},\"colorscale\":[[0.0,\"#0d0887\"],[0.1111111111111111,\"#46039f\"],[0.2222222222222222,\"#7201a8\"],[0.3333333333333333,\"#9c179e\"],[0.4444444444444444,\"#bd3786\"],[0.5555555555555556,\"#d8576b\"],[0.6666666666666666,\"#ed7953\"],[0.7777777777777778,\"#fb9f3a\"],[0.8888888888888888,\"#fdca26\"],[1.0,\"#f0f921\"]]}],\"choropleth\":[{\"type\":\"choropleth\",\"colorbar\":{\"outlinewidth\":0,\"ticks\":\"\"}}],\"histogram2d\":[{\"type\":\"histogram2d\",\"colorbar\":{\"outlinewidth\":0,\"ticks\":\"\"},\"colorscale\":[[0.0,\"#0d0887\"],[0.1111111111111111,\"#46039f\"],[0.2222222222222222,\"#7201a8\"],[0.3333333333333333,\"#9c179e\"],[0.4444444444444444,\"#bd3786\"],[0.5555555555555556,\"#d8576b\"],[0.6666666666666666,\"#ed7953\"],[0.7777777777777778,\"#fb9f3a\"],[0.8888888888888888,\"#fdca26\"],[1.0,\"#f0f921\"]]}],\"heatmap\":[{\"type\":\"heatmap\",\"colorbar\":{\"outlinewidth\":0,\"ticks\":\"\"},\"colorscale\":[[0.0,\"#0d0887\"],[0.1111111111111111,\"#46039f\"],[0.2222222222222222,\"#7201a8\"],[0.3333333333333333,\"#9c179e\"],[0.4444444444444444,\"#bd3786\"],[0.5555555555555556,\"#d8576b\"],[0.6666666666666666,\"#ed7953\"],[0.7777777777777778,\"#fb9f3a\"],[0.8888888888888888,\"#fdca26\"],[1.0,\"#f0f921\"]]}],\"heatmapgl\":[{\"type\":\"heatmapgl\",\"colorbar\":{\"outlinewidth\":0,\"ticks\":\"\"},\"colorscale\":[[0.0,\"#0d0887\"],[0.1111111111111111,\"#46039f\"],[0.2222222222222222,\"#7201a8\"],[0.3333333333333333,\"#9c179e\"],[0.4444444444444444,\"#bd3786\"],[0.5555555555555556,\"#d8576b\"],[0.6666666666666666,\"#ed7953\"],[0.7777777777777778,\"#fb9f3a\"],[0.8888888888888888,\"#fdca26\"],[1.0,\"#f0f921\"]]}],\"contourcarpet\":[{\"type\":\"contourcarpet\",\"colorbar\":{\"outlinewidth\":0,\"ticks\":\"\"}}],\"contour\":[{\"type\":\"contour\",\"colorbar\":{\"outlinewidth\":0,\"ticks\":\"\"},\"colorscale\":[[0.0,\"#0d0887\"],[0.1111111111111111,\"#46039f\"],[0.2222222222222222,\"#7201a8\"],[0.3333333333333333,\"#9c179e\"],[0.4444444444444444,\"#bd3786\"],[0.5555555555555556,\"#d8576b\"],[0.6666666666666666,\"#ed7953\"],[0.7777777777777778,\"#fb9f3a\"],[0.8888888888888888,\"#fdca26\"],[1.0,\"#f0f921\"]]}],\"surface\":[{\"type\":\"surface\",\"colorbar\":{\"outlinewidth\":0,\"ticks\":\"\"},\"colorscale\":[[0.0,\"#0d0887\"],[0.1111111111111111,\"#46039f\"],[0.2222222222222222,\"#7201a8\"],[0.3333333333333333,\"#9c179e\"],[0.4444444444444444,\"#bd3786\"],[0.5555555555555556,\"#d8576b\"],[0.6666666666666666,\"#ed7953\"],[0.7777777777777778,\"#fb9f3a\"],[0.8888888888888888,\"#fdca26\"],[1.0,\"#f0f921\"]]}],\"mesh3d\":[{\"type\":\"mesh3d\",\"colorbar\":{\"outlinewidth\":0,\"ticks\":\"\"}}],\"scatter\":[{\"fillpattern\":{\"fillmode\":\"overlay\",\"size\":10,\"solidity\":0.2},\"type\":\"scatter\"}],\"parcoords\":[{\"type\":\"parcoords\",\"line\":{\"colorbar\":{\"outlinewidth\":0,\"ticks\":\"\"}}}],\"scatterpolargl\":[{\"type\":\"scatterpolargl\",\"marker\":{\"colorbar\":{\"outlinewidth\":0,\"ticks\":\"\"}}}],\"bar\":[{\"error_x\":{\"color\":\"#2a3f5f\"},\"error_y\":{\"color\":\"#2a3f5f\"},\"marker\":{\"line\":{\"color\":\"#E5ECF6\",\"width\":0.5},\"pattern\":{\"fillmode\":\"overlay\",\"size\":10,\"solidity\":0.2}},\"type\":\"bar\"}],\"scattergeo\":[{\"type\":\"scattergeo\",\"marker\":{\"colorbar\":{\"outlinewidth\":0,\"ticks\":\"\"}}}],\"scatterpolar\":[{\"type\":\"scatterpolar\",\"marker\":{\"colorbar\":{\"outlinewidth\":0,\"ticks\":\"\"}}}],\"histogram\":[{\"marker\":{\"pattern\":{\"fillmode\":\"overlay\",\"size\":10,\"solidity\":0.2}},\"type\":\"histogram\"}],\"scattergl\":[{\"type\":\"scattergl\",\"marker\":{\"colorbar\":{\"outlinewidth\":0,\"ticks\":\"\"}}}],\"scatter3d\":[{\"type\":\"scatter3d\",\"line\":{\"colorbar\":{\"outlinewidth\":0,\"ticks\":\"\"}},\"marker\":{\"colorbar\":{\"outlinewidth\":0,\"ticks\":\"\"}}}],\"scattermapbox\":[{\"type\":\"scattermapbox\",\"marker\":{\"colorbar\":{\"outlinewidth\":0,\"ticks\":\"\"}}}],\"scatterternary\":[{\"type\":\"scatterternary\",\"marker\":{\"colorbar\":{\"outlinewidth\":0,\"ticks\":\"\"}}}],\"scattercarpet\":[{\"type\":\"scattercarpet\",\"marker\":{\"colorbar\":{\"outlinewidth\":0,\"ticks\":\"\"}}}],\"carpet\":[{\"aaxis\":{\"endlinecolor\":\"#2a3f5f\",\"gridcolor\":\"white\",\"linecolor\":\"white\",\"minorgridcolor\":\"white\",\"startlinecolor\":\"#2a3f5f\"},\"baxis\":{\"endlinecolor\":\"#2a3f5f\",\"gridcolor\":\"white\",\"linecolor\":\"white\",\"minorgridcolor\":\"white\",\"startlinecolor\":\"#2a3f5f\"},\"type\":\"carpet\"}],\"table\":[{\"cells\":{\"fill\":{\"color\":\"#EBF0F8\"},\"line\":{\"color\":\"white\"}},\"header\":{\"fill\":{\"color\":\"#C8D4E3\"},\"line\":{\"color\":\"white\"}},\"type\":\"table\"}],\"barpolar\":[{\"marker\":{\"line\":{\"color\":\"#E5ECF6\",\"width\":0.5},\"pattern\":{\"fillmode\":\"overlay\",\"size\":10,\"solidity\":0.2}},\"type\":\"barpolar\"}],\"pie\":[{\"automargin\":true,\"type\":\"pie\"}]},\"layout\":{\"autotypenumbers\":\"strict\",\"colorway\":[\"#636efa\",\"#EF553B\",\"#00cc96\",\"#ab63fa\",\"#FFA15A\",\"#19d3f3\",\"#FF6692\",\"#B6E880\",\"#FF97FF\",\"#FECB52\"],\"font\":{\"color\":\"#2a3f5f\"},\"hovermode\":\"closest\",\"hoverlabel\":{\"align\":\"left\"},\"paper_bgcolor\":\"white\",\"plot_bgcolor\":\"#E5ECF6\",\"polar\":{\"bgcolor\":\"#E5ECF6\",\"angularaxis\":{\"gridcolor\":\"white\",\"linecolor\":\"white\",\"ticks\":\"\"},\"radialaxis\":{\"gridcolor\":\"white\",\"linecolor\":\"white\",\"ticks\":\"\"}},\"ternary\":{\"bgcolor\":\"#E5ECF6\",\"aaxis\":{\"gridcolor\":\"white\",\"linecolor\":\"white\",\"ticks\":\"\"},\"baxis\":{\"gridcolor\":\"white\",\"linecolor\":\"white\",\"ticks\":\"\"},\"caxis\":{\"gridcolor\":\"white\",\"linecolor\":\"white\",\"ticks\":\"\"}},\"coloraxis\":{\"colorbar\":{\"outlinewidth\":0,\"ticks\":\"\"}},\"colorscale\":{\"sequential\":[[0.0,\"#0d0887\"],[0.1111111111111111,\"#46039f\"],[0.2222222222222222,\"#7201a8\"],[0.3333333333333333,\"#9c179e\"],[0.4444444444444444,\"#bd3786\"],[0.5555555555555556,\"#d8576b\"],[0.6666666666666666,\"#ed7953\"],[0.7777777777777778,\"#fb9f3a\"],[0.8888888888888888,\"#fdca26\"],[1.0,\"#f0f921\"]],\"sequentialminus\":[[0.0,\"#0d0887\"],[0.1111111111111111,\"#46039f\"],[0.2222222222222222,\"#7201a8\"],[0.3333333333333333,\"#9c179e\"],[0.4444444444444444,\"#bd3786\"],[0.5555555555555556,\"#d8576b\"],[0.6666666666666666,\"#ed7953\"],[0.7777777777777778,\"#fb9f3a\"],[0.8888888888888888,\"#fdca26\"],[1.0,\"#f0f921\"]],\"diverging\":[[0,\"#8e0152\"],[0.1,\"#c51b7d\"],[0.2,\"#de77ae\"],[0.3,\"#f1b6da\"],[0.4,\"#fde0ef\"],[0.5,\"#f7f7f7\"],[0.6,\"#e6f5d0\"],[0.7,\"#b8e186\"],[0.8,\"#7fbc41\"],[0.9,\"#4d9221\"],[1,\"#276419\"]]},\"xaxis\":{\"gridcolor\":\"white\",\"linecolor\":\"white\",\"ticks\":\"\",\"title\":{\"standoff\":15},\"zerolinecolor\":\"white\",\"automargin\":true,\"zerolinewidth\":2},\"yaxis\":{\"gridcolor\":\"white\",\"linecolor\":\"white\",\"ticks\":\"\",\"title\":{\"standoff\":15},\"zerolinecolor\":\"white\",\"automargin\":true,\"zerolinewidth\":2},\"scene\":{\"xaxis\":{\"backgroundcolor\":\"#E5ECF6\",\"gridcolor\":\"white\",\"linecolor\":\"white\",\"showbackground\":true,\"ticks\":\"\",\"zerolinecolor\":\"white\",\"gridwidth\":2},\"yaxis\":{\"backgroundcolor\":\"#E5ECF6\",\"gridcolor\":\"white\",\"linecolor\":\"white\",\"showbackground\":true,\"ticks\":\"\",\"zerolinecolor\":\"white\",\"gridwidth\":2},\"zaxis\":{\"backgroundcolor\":\"#E5ECF6\",\"gridcolor\":\"white\",\"linecolor\":\"white\",\"showbackground\":true,\"ticks\":\"\",\"zerolinecolor\":\"white\",\"gridwidth\":2}},\"shapedefaults\":{\"line\":{\"color\":\"#2a3f5f\"}},\"annotationdefaults\":{\"arrowcolor\":\"#2a3f5f\",\"arrowhead\":0,\"arrowwidth\":1},\"geo\":{\"bgcolor\":\"white\",\"landcolor\":\"#E5ECF6\",\"subunitcolor\":\"white\",\"showland\":true,\"showlakes\":true,\"lakecolor\":\"white\"},\"title\":{\"x\":0.05},\"mapbox\":{\"style\":\"light\"}}},\"xaxis\":{\"anchor\":\"y\",\"domain\":[0.0,1.0],\"title\":{\"text\":\"Epoch\"}},\"yaxis\":{\"anchor\":\"x\",\"domain\":[0.0,1.0],\"title\":{\"text\":\"Loss\"}},\"legend\":{\"title\":{\"text\":\"variable\"},\"tracegroupgap\":0},\"margin\":{\"t\":60}},                        {\"responsive\": true}                    ).then(function(){\n",
              "                            \n",
              "var gd = document.getElementById('9bac9e71-efdc-47fa-a928-76df46c7001b');\n",
              "var x = new MutationObserver(function (mutations, observer) {{\n",
              "        var display = window.getComputedStyle(gd).display;\n",
              "        if (!display || display === 'none') {{\n",
              "            console.log([gd, 'removed!']);\n",
              "            Plotly.purge(gd);\n",
              "            observer.disconnect();\n",
              "        }}\n",
              "}});\n",
              "\n",
              "// Listen for the removal of the full notebook cells\n",
              "var notebookContainer = gd.closest('#notebook-container');\n",
              "if (notebookContainer) {{\n",
              "    x.observe(notebookContainer, {childList: true});\n",
              "}}\n",
              "\n",
              "// Listen for the clearing of the current output cell\n",
              "var outputEl = gd.closest('.output');\n",
              "if (outputEl) {{\n",
              "    x.observe(outputEl, {childList: true});\n",
              "}}\n",
              "\n",
              "                        })                };                            </script>        </div>\n",
              "</body>\n",
              "</html>"
            ]
          },
          "metadata": {},
          "output_type": "display_data"
        }
      ],
      "source": [
        "fig = px.line(result.history, x=range(1, 11), y=['loss', 'val_loss'], labels={'x': 'Epoch', 'value': 'Loss'})\n",
        "fig.show()"
      ]
    },
    {
      "cell_type": "code",
      "execution_count": 96,
      "metadata": {
        "colab": {
          "base_uri": "https://localhost:8080/",
          "height": 542
        },
        "id": "PfK36FjZqvd_",
        "outputId": "0ea5cede-7586-465b-8bfb-757beba3a515"
      },
      "outputs": [
        {
          "data": {
            "text/html": [
              "<html>\n",
              "<head><meta charset=\"utf-8\" /></head>\n",
              "<body>\n",
              "    <div>            <script src=\"https://cdnjs.cloudflare.com/ajax/libs/mathjax/2.7.5/MathJax.js?config=TeX-AMS-MML_SVG\"></script><script type=\"text/javascript\">if (window.MathJax && window.MathJax.Hub && window.MathJax.Hub.Config) {window.MathJax.Hub.Config({SVG: {font: \"STIX-Web\"}});}</script>                <script type=\"text/javascript\">window.PlotlyConfig = {MathJaxConfig: 'local'};</script>\n",
              "        <script charset=\"utf-8\" src=\"https://cdn.plot.ly/plotly-2.24.1.min.js\"></script>                <div id=\"fcd0f32d-04e7-462f-aa59-15f244738f2a\" class=\"plotly-graph-div\" style=\"height:525px; width:100%;\"></div>            <script type=\"text/javascript\">                                    window.PLOTLYENV=window.PLOTLYENV || {};                                    if (document.getElementById(\"fcd0f32d-04e7-462f-aa59-15f244738f2a\")) {                    Plotly.newPlot(                        \"fcd0f32d-04e7-462f-aa59-15f244738f2a\",                        [{\"hovertemplate\":\"variable=accuracy\\u003cbr\\u003eEpoch=%{x}\\u003cbr\\u003eAccuracy=%{y}\\u003cextra\\u003e\\u003c\\u002fextra\\u003e\",\"legendgroup\":\"accuracy\",\"line\":{\"color\":\"#636efa\",\"dash\":\"solid\"},\"marker\":{\"symbol\":\"circle\"},\"mode\":\"lines\",\"name\":\"accuracy\",\"orientation\":\"v\",\"showlegend\":true,\"x\":[1,2,3,4,5,6,7,8,9,10],\"xaxis\":\"x\",\"y\":[0.4547206163406372,0.7649325728416443,0.8619139194488525,0.9242132306098938,0.955041766166687,0.9723827838897705,0.9845857620239258,0.9903661012649536,0.9922928810119629,0.994861900806427],\"yaxis\":\"y\",\"type\":\"scatter\"},{\"hovertemplate\":\"variable=val_accuracy\\u003cbr\\u003eEpoch=%{x}\\u003cbr\\u003eAccuracy=%{y}\\u003cextra\\u003e\\u003c\\u002fextra\\u003e\",\"legendgroup\":\"val_accuracy\",\"line\":{\"color\":\"#EF553B\",\"dash\":\"solid\"},\"marker\":{\"symbol\":\"circle\"},\"mode\":\"lines\",\"name\":\"val_accuracy\",\"orientation\":\"v\",\"showlegend\":true,\"x\":[1,2,3,4,5,6,7,8,9,10],\"xaxis\":\"x\",\"y\":[0.6407185792922974,0.75,0.8383233547210693,0.9041916131973267,0.9356287717819214,0.9505987763404846,0.9565868377685547,0.9595808386802673,0.9655688405036926,0.961077868938446],\"yaxis\":\"y\",\"type\":\"scatter\"}],                        {\"template\":{\"data\":{\"histogram2dcontour\":[{\"type\":\"histogram2dcontour\",\"colorbar\":{\"outlinewidth\":0,\"ticks\":\"\"},\"colorscale\":[[0.0,\"#0d0887\"],[0.1111111111111111,\"#46039f\"],[0.2222222222222222,\"#7201a8\"],[0.3333333333333333,\"#9c179e\"],[0.4444444444444444,\"#bd3786\"],[0.5555555555555556,\"#d8576b\"],[0.6666666666666666,\"#ed7953\"],[0.7777777777777778,\"#fb9f3a\"],[0.8888888888888888,\"#fdca26\"],[1.0,\"#f0f921\"]]}],\"choropleth\":[{\"type\":\"choropleth\",\"colorbar\":{\"outlinewidth\":0,\"ticks\":\"\"}}],\"histogram2d\":[{\"type\":\"histogram2d\",\"colorbar\":{\"outlinewidth\":0,\"ticks\":\"\"},\"colorscale\":[[0.0,\"#0d0887\"],[0.1111111111111111,\"#46039f\"],[0.2222222222222222,\"#7201a8\"],[0.3333333333333333,\"#9c179e\"],[0.4444444444444444,\"#bd3786\"],[0.5555555555555556,\"#d8576b\"],[0.6666666666666666,\"#ed7953\"],[0.7777777777777778,\"#fb9f3a\"],[0.8888888888888888,\"#fdca26\"],[1.0,\"#f0f921\"]]}],\"heatmap\":[{\"type\":\"heatmap\",\"colorbar\":{\"outlinewidth\":0,\"ticks\":\"\"},\"colorscale\":[[0.0,\"#0d0887\"],[0.1111111111111111,\"#46039f\"],[0.2222222222222222,\"#7201a8\"],[0.3333333333333333,\"#9c179e\"],[0.4444444444444444,\"#bd3786\"],[0.5555555555555556,\"#d8576b\"],[0.6666666666666666,\"#ed7953\"],[0.7777777777777778,\"#fb9f3a\"],[0.8888888888888888,\"#fdca26\"],[1.0,\"#f0f921\"]]}],\"heatmapgl\":[{\"type\":\"heatmapgl\",\"colorbar\":{\"outlinewidth\":0,\"ticks\":\"\"},\"colorscale\":[[0.0,\"#0d0887\"],[0.1111111111111111,\"#46039f\"],[0.2222222222222222,\"#7201a8\"],[0.3333333333333333,\"#9c179e\"],[0.4444444444444444,\"#bd3786\"],[0.5555555555555556,\"#d8576b\"],[0.6666666666666666,\"#ed7953\"],[0.7777777777777778,\"#fb9f3a\"],[0.8888888888888888,\"#fdca26\"],[1.0,\"#f0f921\"]]}],\"contourcarpet\":[{\"type\":\"contourcarpet\",\"colorbar\":{\"outlinewidth\":0,\"ticks\":\"\"}}],\"contour\":[{\"type\":\"contour\",\"colorbar\":{\"outlinewidth\":0,\"ticks\":\"\"},\"colorscale\":[[0.0,\"#0d0887\"],[0.1111111111111111,\"#46039f\"],[0.2222222222222222,\"#7201a8\"],[0.3333333333333333,\"#9c179e\"],[0.4444444444444444,\"#bd3786\"],[0.5555555555555556,\"#d8576b\"],[0.6666666666666666,\"#ed7953\"],[0.7777777777777778,\"#fb9f3a\"],[0.8888888888888888,\"#fdca26\"],[1.0,\"#f0f921\"]]}],\"surface\":[{\"type\":\"surface\",\"colorbar\":{\"outlinewidth\":0,\"ticks\":\"\"},\"colorscale\":[[0.0,\"#0d0887\"],[0.1111111111111111,\"#46039f\"],[0.2222222222222222,\"#7201a8\"],[0.3333333333333333,\"#9c179e\"],[0.4444444444444444,\"#bd3786\"],[0.5555555555555556,\"#d8576b\"],[0.6666666666666666,\"#ed7953\"],[0.7777777777777778,\"#fb9f3a\"],[0.8888888888888888,\"#fdca26\"],[1.0,\"#f0f921\"]]}],\"mesh3d\":[{\"type\":\"mesh3d\",\"colorbar\":{\"outlinewidth\":0,\"ticks\":\"\"}}],\"scatter\":[{\"fillpattern\":{\"fillmode\":\"overlay\",\"size\":10,\"solidity\":0.2},\"type\":\"scatter\"}],\"parcoords\":[{\"type\":\"parcoords\",\"line\":{\"colorbar\":{\"outlinewidth\":0,\"ticks\":\"\"}}}],\"scatterpolargl\":[{\"type\":\"scatterpolargl\",\"marker\":{\"colorbar\":{\"outlinewidth\":0,\"ticks\":\"\"}}}],\"bar\":[{\"error_x\":{\"color\":\"#2a3f5f\"},\"error_y\":{\"color\":\"#2a3f5f\"},\"marker\":{\"line\":{\"color\":\"#E5ECF6\",\"width\":0.5},\"pattern\":{\"fillmode\":\"overlay\",\"size\":10,\"solidity\":0.2}},\"type\":\"bar\"}],\"scattergeo\":[{\"type\":\"scattergeo\",\"marker\":{\"colorbar\":{\"outlinewidth\":0,\"ticks\":\"\"}}}],\"scatterpolar\":[{\"type\":\"scatterpolar\",\"marker\":{\"colorbar\":{\"outlinewidth\":0,\"ticks\":\"\"}}}],\"histogram\":[{\"marker\":{\"pattern\":{\"fillmode\":\"overlay\",\"size\":10,\"solidity\":0.2}},\"type\":\"histogram\"}],\"scattergl\":[{\"type\":\"scattergl\",\"marker\":{\"colorbar\":{\"outlinewidth\":0,\"ticks\":\"\"}}}],\"scatter3d\":[{\"type\":\"scatter3d\",\"line\":{\"colorbar\":{\"outlinewidth\":0,\"ticks\":\"\"}},\"marker\":{\"colorbar\":{\"outlinewidth\":0,\"ticks\":\"\"}}}],\"scattermapbox\":[{\"type\":\"scattermapbox\",\"marker\":{\"colorbar\":{\"outlinewidth\":0,\"ticks\":\"\"}}}],\"scatterternary\":[{\"type\":\"scatterternary\",\"marker\":{\"colorbar\":{\"outlinewidth\":0,\"ticks\":\"\"}}}],\"scattercarpet\":[{\"type\":\"scattercarpet\",\"marker\":{\"colorbar\":{\"outlinewidth\":0,\"ticks\":\"\"}}}],\"carpet\":[{\"aaxis\":{\"endlinecolor\":\"#2a3f5f\",\"gridcolor\":\"white\",\"linecolor\":\"white\",\"minorgridcolor\":\"white\",\"startlinecolor\":\"#2a3f5f\"},\"baxis\":{\"endlinecolor\":\"#2a3f5f\",\"gridcolor\":\"white\",\"linecolor\":\"white\",\"minorgridcolor\":\"white\",\"startlinecolor\":\"#2a3f5f\"},\"type\":\"carpet\"}],\"table\":[{\"cells\":{\"fill\":{\"color\":\"#EBF0F8\"},\"line\":{\"color\":\"white\"}},\"header\":{\"fill\":{\"color\":\"#C8D4E3\"},\"line\":{\"color\":\"white\"}},\"type\":\"table\"}],\"barpolar\":[{\"marker\":{\"line\":{\"color\":\"#E5ECF6\",\"width\":0.5},\"pattern\":{\"fillmode\":\"overlay\",\"size\":10,\"solidity\":0.2}},\"type\":\"barpolar\"}],\"pie\":[{\"automargin\":true,\"type\":\"pie\"}]},\"layout\":{\"autotypenumbers\":\"strict\",\"colorway\":[\"#636efa\",\"#EF553B\",\"#00cc96\",\"#ab63fa\",\"#FFA15A\",\"#19d3f3\",\"#FF6692\",\"#B6E880\",\"#FF97FF\",\"#FECB52\"],\"font\":{\"color\":\"#2a3f5f\"},\"hovermode\":\"closest\",\"hoverlabel\":{\"align\":\"left\"},\"paper_bgcolor\":\"white\",\"plot_bgcolor\":\"#E5ECF6\",\"polar\":{\"bgcolor\":\"#E5ECF6\",\"angularaxis\":{\"gridcolor\":\"white\",\"linecolor\":\"white\",\"ticks\":\"\"},\"radialaxis\":{\"gridcolor\":\"white\",\"linecolor\":\"white\",\"ticks\":\"\"}},\"ternary\":{\"bgcolor\":\"#E5ECF6\",\"aaxis\":{\"gridcolor\":\"white\",\"linecolor\":\"white\",\"ticks\":\"\"},\"baxis\":{\"gridcolor\":\"white\",\"linecolor\":\"white\",\"ticks\":\"\"},\"caxis\":{\"gridcolor\":\"white\",\"linecolor\":\"white\",\"ticks\":\"\"}},\"coloraxis\":{\"colorbar\":{\"outlinewidth\":0,\"ticks\":\"\"}},\"colorscale\":{\"sequential\":[[0.0,\"#0d0887\"],[0.1111111111111111,\"#46039f\"],[0.2222222222222222,\"#7201a8\"],[0.3333333333333333,\"#9c179e\"],[0.4444444444444444,\"#bd3786\"],[0.5555555555555556,\"#d8576b\"],[0.6666666666666666,\"#ed7953\"],[0.7777777777777778,\"#fb9f3a\"],[0.8888888888888888,\"#fdca26\"],[1.0,\"#f0f921\"]],\"sequentialminus\":[[0.0,\"#0d0887\"],[0.1111111111111111,\"#46039f\"],[0.2222222222222222,\"#7201a8\"],[0.3333333333333333,\"#9c179e\"],[0.4444444444444444,\"#bd3786\"],[0.5555555555555556,\"#d8576b\"],[0.6666666666666666,\"#ed7953\"],[0.7777777777777778,\"#fb9f3a\"],[0.8888888888888888,\"#fdca26\"],[1.0,\"#f0f921\"]],\"diverging\":[[0,\"#8e0152\"],[0.1,\"#c51b7d\"],[0.2,\"#de77ae\"],[0.3,\"#f1b6da\"],[0.4,\"#fde0ef\"],[0.5,\"#f7f7f7\"],[0.6,\"#e6f5d0\"],[0.7,\"#b8e186\"],[0.8,\"#7fbc41\"],[0.9,\"#4d9221\"],[1,\"#276419\"]]},\"xaxis\":{\"gridcolor\":\"white\",\"linecolor\":\"white\",\"ticks\":\"\",\"title\":{\"standoff\":15},\"zerolinecolor\":\"white\",\"automargin\":true,\"zerolinewidth\":2},\"yaxis\":{\"gridcolor\":\"white\",\"linecolor\":\"white\",\"ticks\":\"\",\"title\":{\"standoff\":15},\"zerolinecolor\":\"white\",\"automargin\":true,\"zerolinewidth\":2},\"scene\":{\"xaxis\":{\"backgroundcolor\":\"#E5ECF6\",\"gridcolor\":\"white\",\"linecolor\":\"white\",\"showbackground\":true,\"ticks\":\"\",\"zerolinecolor\":\"white\",\"gridwidth\":2},\"yaxis\":{\"backgroundcolor\":\"#E5ECF6\",\"gridcolor\":\"white\",\"linecolor\":\"white\",\"showbackground\":true,\"ticks\":\"\",\"zerolinecolor\":\"white\",\"gridwidth\":2},\"zaxis\":{\"backgroundcolor\":\"#E5ECF6\",\"gridcolor\":\"white\",\"linecolor\":\"white\",\"showbackground\":true,\"ticks\":\"\",\"zerolinecolor\":\"white\",\"gridwidth\":2}},\"shapedefaults\":{\"line\":{\"color\":\"#2a3f5f\"}},\"annotationdefaults\":{\"arrowcolor\":\"#2a3f5f\",\"arrowhead\":0,\"arrowwidth\":1},\"geo\":{\"bgcolor\":\"white\",\"landcolor\":\"#E5ECF6\",\"subunitcolor\":\"white\",\"showland\":true,\"showlakes\":true,\"lakecolor\":\"white\"},\"title\":{\"x\":0.05},\"mapbox\":{\"style\":\"light\"}}},\"xaxis\":{\"anchor\":\"y\",\"domain\":[0.0,1.0],\"title\":{\"text\":\"Epoch\"}},\"yaxis\":{\"anchor\":\"x\",\"domain\":[0.0,1.0],\"title\":{\"text\":\"Accuracy\"}},\"legend\":{\"title\":{\"text\":\"variable\"},\"tracegroupgap\":0},\"margin\":{\"t\":60}},                        {\"responsive\": true}                    ).then(function(){\n",
              "                            \n",
              "var gd = document.getElementById('fcd0f32d-04e7-462f-aa59-15f244738f2a');\n",
              "var x = new MutationObserver(function (mutations, observer) {{\n",
              "        var display = window.getComputedStyle(gd).display;\n",
              "        if (!display || display === 'none') {{\n",
              "            console.log([gd, 'removed!']);\n",
              "            Plotly.purge(gd);\n",
              "            observer.disconnect();\n",
              "        }}\n",
              "}});\n",
              "\n",
              "// Listen for the removal of the full notebook cells\n",
              "var notebookContainer = gd.closest('#notebook-container');\n",
              "if (notebookContainer) {{\n",
              "    x.observe(notebookContainer, {childList: true});\n",
              "}}\n",
              "\n",
              "// Listen for the clearing of the current output cell\n",
              "var outputEl = gd.closest('.output');\n",
              "if (outputEl) {{\n",
              "    x.observe(outputEl, {childList: true});\n",
              "}}\n",
              "\n",
              "                        })                };                            </script>        </div>\n",
              "</body>\n",
              "</html>"
            ]
          },
          "metadata": {},
          "output_type": "display_data"
        }
      ],
      "source": [
        "fig = px.line(result.history, x=range(1, 11), y=['accuracy', 'val_accuracy'], labels={'x': 'Epoch', 'value': 'Accuracy'})\n",
        "fig.show()"
      ]
    },
    {
      "cell_type": "code",
      "execution_count": 99,
      "metadata": {
        "colab": {
          "base_uri": "https://localhost:8080/"
        },
        "id": "IsUIExL4q2hB",
        "outputId": "315a5a27-5a11-451d-a46f-53a3ac3e761f"
      },
      "outputs": [
        {
          "name": "stdout",
          "output_type": "stream",
          "text": [
            "1/1 [==============================] - 0s 71ms/step\n"
          ]
        },
        {
          "data": {
            "text/plain": [
              "3"
            ]
          },
          "execution_count": 99,
          "metadata": {},
          "output_type": "execute_result"
        }
      ],
      "source": [
        "text = 'India will win the Cricket T20 World Cup'\n",
        "pred = model.predict(pad_sequences(tokenizer.texts_to_sequences([text]), maxlen = dim))\n",
        "np.argmax(pred)"
      ]
    },
    {
      "cell_type": "code",
      "execution_count": 105,
      "metadata": {
        "colab": {
          "base_uri": "https://localhost:8080/"
        },
        "id": "QlcgAFfWxEyx",
        "outputId": "dab2253d-a524-4d2e-c05e-a334ec6222ed"
      },
      "outputs": [
        {
          "name": "stdout",
          "output_type": "stream",
          "text": [
            "Label Mapping:  {0: 'business', 1: 'entertainment', 2: 'politics', 3: 'sport', 4: 'tech'}\n"
          ]
        }
      ],
      "source": [
        "label_mapping = dict(enumerate(df['labels'].astype('category').cat.categories))\n",
        "print(\"Label Mapping: \", label_mapping)"
      ]
    },
    {
      "cell_type": "code",
      "execution_count": 106,
      "metadata": {
        "id": "0O40MT9vu73I"
      },
      "outputs": [],
      "source": [
        "def predict(text):\n",
        "    pred = model.predict(pad_sequences(tokenizer.texts_to_sequences([text]), maxlen = dim))\n",
        "    prediction = np.argmax(pred)\n",
        "    predicted_label = label_mapping[prediction]\n",
        "    return predicted_label"
      ]
    },
    {
      "cell_type": "code",
      "execution_count": 107,
      "metadata": {
        "colab": {
          "base_uri": "https://localhost:8080/",
          "height": 54
        },
        "id": "LtjE7xANvaLr",
        "outputId": "ee1a7330-2532-498b-c599-5ad8f0792f3b"
      },
      "outputs": [
        {
          "name": "stdout",
          "output_type": "stream",
          "text": [
            "1/1 [==============================] - 0s 23ms/step\n"
          ]
        },
        {
          "data": {
            "application/vnd.google.colaboratory.intrinsic+json": {
              "type": "string"
            },
            "text/plain": [
              "'sport'"
            ]
          },
          "execution_count": 107,
          "metadata": {},
          "output_type": "execute_result"
        }
      ],
      "source": [
        "predict(text)"
      ]
    },
    {
      "cell_type": "code",
      "execution_count": 108,
      "metadata": {
        "colab": {
          "base_uri": "https://localhost:8080/",
          "height": 54
        },
        "id": "e2XzRTN_wB7j",
        "outputId": "ce06d73e-df62-4914-b4ab-e9064269b928"
      },
      "outputs": [
        {
          "name": "stdout",
          "output_type": "stream",
          "text": [
            "1/1 [==============================] - 0s 36ms/step\n"
          ]
        },
        {
          "data": {
            "application/vnd.google.colaboratory.intrinsic+json": {
              "type": "string"
            },
            "text/plain": [
              "'business'"
            ]
          },
          "execution_count": 108,
          "metadata": {},
          "output_type": "execute_result"
        }
      ],
      "source": [
        "predict('Elliott takes $1.9 billion stake in Southwest, seeks to oust CEO and chair')"
      ]
    },
    {
      "cell_type": "code",
      "execution_count": 109,
      "metadata": {
        "colab": {
          "base_uri": "https://localhost:8080/",
          "height": 54
        },
        "id": "CCRu1I--xrjg",
        "outputId": "f1a8a24e-590d-4543-c3a7-0a4b04638056"
      },
      "outputs": [
        {
          "name": "stdout",
          "output_type": "stream",
          "text": [
            "1/1 [==============================] - 0s 35ms/step\n"
          ]
        },
        {
          "data": {
            "application/vnd.google.colaboratory.intrinsic+json": {
              "type": "string"
            },
            "text/plain": [
              "'entertainment'"
            ]
          },
          "execution_count": 109,
          "metadata": {},
          "output_type": "execute_result"
        }
      ],
      "source": [
        "predict('Fans get emotional seeing Ranbir Kapoor\\'s with Raha')"
      ]
    },
    {
      "cell_type": "code",
      "execution_count": null,
      "metadata": {
        "id": "OJFLptZuyHgB"
      },
      "outputs": [],
      "source": []
    }
  ],
  "metadata": {
    "colab": {
      "provenance": []
    },
    "kernelspec": {
      "display_name": "Python 3",
      "name": "python3"
    },
    "language_info": {
      "name": "python"
    }
  },
  "nbformat": 4,
  "nbformat_minor": 0
}
